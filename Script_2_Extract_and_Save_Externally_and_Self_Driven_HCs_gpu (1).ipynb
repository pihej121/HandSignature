{
 "cells": [
  {
   "cell_type": "code",
   "execution_count": 13,
   "metadata": {},
   "outputs": [
    {
     "name": "stdout",
     "output_type": "stream",
     "text": [
      "\u001b[31mERROR: Could not find a version that satisfies the requirement matplotlib==3.8.2 (from versions: 0.86, 0.86.1, 0.86.2, 0.91.0, 0.91.1, 1.0.1, 1.1.0, 1.1.1, 1.2.0, 1.2.1, 1.3.0, 1.3.1, 1.4.0, 1.4.1rc1, 1.4.1, 1.4.2, 1.4.3, 1.5.0, 1.5.1, 1.5.2, 1.5.3, 2.0.0b1, 2.0.0b2, 2.0.0b3, 2.0.0b4, 2.0.0rc1, 2.0.0rc2, 2.0.0, 2.0.1, 2.0.2, 2.1.0rc1, 2.1.0, 2.1.1, 2.1.2, 2.2.0rc1, 2.2.0, 2.2.2, 2.2.3, 2.2.4, 2.2.5, 3.0.0rc2, 3.0.0, 3.0.1, 3.0.2, 3.0.3, 3.1.0rc1, 3.1.0rc2, 3.1.0, 3.1.1, 3.1.2, 3.1.3, 3.2.0rc1, 3.2.0rc3, 3.2.0, 3.2.1, 3.2.2, 3.3.0rc1, 3.3.0, 3.3.1, 3.3.2, 3.3.3, 3.3.4, 3.4.0rc1, 3.4.0rc2, 3.4.0rc3, 3.4.0, 3.4.1, 3.4.2, 3.4.3, 3.5.0b1, 3.5.0rc1, 3.5.0, 3.5.1, 3.5.2, 3.5.3, 3.6.0rc1, 3.6.0rc2, 3.6.0, 3.6.1, 3.6.2)\u001b[0m\u001b[31m\n",
      "\u001b[0m\u001b[31mERROR: No matching distribution found for matplotlib==3.8.2\u001b[0m\u001b[31m\n",
      "\u001b[0mNote: you may need to restart the kernel to use updated packages.\n"
     ]
    }
   ],
   "source": [
    "%pip install matplotlib==3.8.2\n",
    "import tensorflow as tf\n",
    "from keras.models import Sequential\n",
    "from keras.layers import Dense\n",
    "from keras.layers.recurrent import LSTM\n",
    "from sklearn.model_selection import train_test_split\n",
    "import sklearn.model_selection as model_selection\n",
    "import matplotlib.pyplot as plt\n",
    "import math\n",
    "import keras as k\n",
    "import pandas as pd\n",
    "import numpy as np\n",
    "from copy import copy\n",
    "import scipy.io\n",
    "from sklearn.decomposition import PCA\n",
    "\n",
    "from scipy.signal import find_peaks\n",
    "from scipy import interpolate\n",
    "from numpy import sin,cos,pi,array,linspace,cumsum,asarray,dot,ones\n",
    "from pylab import plot, legend, axis, show, randint, randn, std,lstsq\n",
    "\n",
    "from sklearn.manifold import MDS\n",
    "import csv\n",
    "import os\n",
    "from tqdm import tqdm"
   ]
  },
  {
   "cell_type": "code",
   "execution_count": 14,
   "metadata": {},
   "outputs": [
    {
     "name": "stdout",
     "output_type": "stream",
     "text": [
      "2.8.2\n",
      "2.8.0\n",
      "1.23.2\n"
     ]
    }
   ],
   "source": [
    "# Print all versions\n",
    "print(tf.__version__)\n",
    "print(k.__version__)\n",
    "print(np.__version__)"
   ]
  },
  {
   "cell_type": "code",
   "execution_count": 15,
   "metadata": {},
   "outputs": [
    {
     "name": "stdout",
     "output_type": "stream",
     "text": [
      "/home/victorphilippecodex/Documents/Hand_Signature/WholeGroup1/Python_Inputs\n"
     ]
    }
   ],
   "source": [
    "#Load pathway where fourierseries, util, phaser, dataloader, data are stored\n",
    "%cd /home/victorphilippecodex/Documents/Hand_Signature/WholeGroup1/Python_Inputs"
   ]
  },
  {
   "cell_type": "code",
   "execution_count": 16,
   "metadata": {},
   "outputs": [
    {
     "name": "stdout",
     "output_type": "stream",
     "text": [
      "-rw-rw-r-- 1 victorphilippecodex victorphilippecodex 7259 Aug 17 10:21 fourierseries.py\n"
     ]
    }
   ],
   "source": [
    "!ls -l fourierseries.py"
   ]
  },
  {
   "cell_type": "code",
   "execution_count": 17,
   "metadata": {},
   "outputs": [],
   "source": [
    "import fourierseries\n",
    "import util\n",
    "import phaser\n",
    "import dataloader"
   ]
  },
  {
   "cell_type": "code",
   "execution_count": 18,
   "metadata": {},
   "outputs": [],
   "source": [
    "def find_phase(k):\n",
    "    \"\"\"\n",
    "    Detrend and compute the phase estimate using Phaser\n",
    "    INPUT:\n",
    "      k -- dataframe\n",
    "    OUTPUT:\n",
    "      k -- dataframe\n",
    "    \"\"\"\n",
    "    #l = ['hip_flexion_l','hip_flexion_r'] # Phase variables = hip flexion angles\n",
    "    y = np.array(k)\n",
    "    print(y.shape)\n",
    "    y = util.detrend(y.T).T\n",
    "    print(y.shape)\n",
    "    phsr = phaser.Phaser(y=y)\n",
    "    k[:] = phsr.phaserEval(y)[0,:]\n",
    "    return k"
   ]
  },
  {
   "cell_type": "code",
   "execution_count": 19,
   "metadata": {},
   "outputs": [],
   "source": [
    "def vonMies(t,t_0, b):\n",
    "    out = np.exp(b*np.cos(t-t_0))/(2*pi*iv(0, b))\n",
    "    return out"
   ]
  },
  {
   "cell_type": "code",
   "execution_count": 20,
   "metadata": {},
   "outputs": [],
   "source": [
    "path = '/home/victorphilippecodex/Documents/Hand_Signature/WholeGroup1'"
   ]
  },
  {
   "cell_type": "code",
   "execution_count": 21,
   "metadata": {},
   "outputs": [
    {
     "name": "stdout",
     "output_type": "stream",
     "text": [
      "original input data shape is: (15, 529200)\n",
      "input data reshaped is: (252, 2100, 15)\n"
     ]
    }
   ],
   "source": [
    "# Non-changing variables \n",
    "\n",
    "# number of trials in dataset \n",
    "trialnum = 252 # 72 total trials\n",
    "\n",
    "# number of samples in each trial\n",
    "trialsamp = 2100\n",
    "\n",
    "# number of features collected per trial\n",
    "feats = 15\n",
    "\n",
    "#Batch size - same as the number of traintrials\n",
    "batch_size = trialnum\n",
    "\n",
    "# Number of Layers\n",
    "numlayers = 1\n",
    "\n",
    "# Choose the number of iterations to train the model- if this script has been run previously enter a value greater than was \n",
    "# inputted before and rerun the script. \n",
    "finalepoch = 10000\n",
    "\n",
    "# load the input data/kinematics\n",
    "datafilepath = '/home/victorphilippecodex/Documents/Hand_Signature/WholeGroup1/DownsampledGroup1.csv' #input data\n",
    "all_csvnp = np.loadtxt(datafilepath,delimiter=',').T\n",
    "\n",
    "# reshape all the input data into a tensor\n",
    "all_inputdata_s = all_csvnp.reshape(trialnum,trialsamp,feats) \n",
    "csvnp = all_inputdata_s\n",
    "print('original input data shape is: '+ str(all_csvnp.shape ))\n",
    "print('input data reshaped is: '+ str(all_inputdata_s.shape))"
   ]
  },
  {
   "cell_type": "code",
   "execution_count": 22,
   "metadata": {},
   "outputs": [
    {
     "name": "stdout",
     "output_type": "stream",
     "text": [
      "['UNIT_256_LB_699_run_1']\n",
      "/home/victorphilippecodex/Documents/Hand_Signature/WholeGroup1UNIT_256_LB_699_run_1/UNIT_256_LB_699_run_1_bestwhole.h5\n"
     ]
    }
   ],
   "source": [
    "test_model_nodes = [256] \n",
    "seqs = [699] #lookback parameter\n",
    "\n",
    "# run multiple model architechtures many times to test stability of cost function outputs\n",
    "runs = 1 # stability analysis - repeat each model architecture this many times\n",
    "test_model_seq = np.repeat(seqs, runs)\n",
    "\n",
    "count = np.arange(runs)\n",
    "\n",
    "All_nodes = np.empty([0,1], dtype='int')\n",
    "All_seq = np.empty([0,1],dtype='int')\n",
    "All_valseg = np.empty([0,1],dtype='int')\n",
    "All_trainseg = np.empty([0,1],dtype='int')\n",
    "All_modelname = []\n",
    "All_mod_name = []\n",
    "count = np.empty([0,1],dtype='int'); #initialize model run -- this serves as the model run ID number\n",
    "ct = 0\n",
    "for a in test_model_nodes:\n",
    "  for b in test_model_seq:\n",
    "    count = np.append(count,  ct + 1 )\n",
    "    #if statement for valseg, trainseg based on sequence length\n",
    "    if int(b) == 699:\n",
    "      trainseg = 2\n",
    "      valseg = 1\n",
    "   \n",
    "\n",
    "    All_nodes = np.append(All_nodes, a) \n",
    "    All_seq = np.append(All_seq, int(b))\n",
    "    All_valseg = np.append(All_valseg, valseg)\n",
    "    All_trainseg = np.append(All_trainseg, trainseg)\n",
    "    All_modelname = np.append(All_modelname, 'UNIT_' + str(a) + '_LB_' + str(b) + '_run_' + str(count[-1]) + '/' )\n",
    "    All_mod_name = np.append(All_mod_name, 'UNIT_' + str(a) + '_LB_' + str(b) + '_run_' + str(count[-1]) )\n",
    "\n",
    "    if ct+1 < runs:\n",
    "      ct += 1\n",
    "    else:\n",
    "      ct = 0\n",
    "\n",
    "print(All_mod_name)\n",
    "j = 0\n",
    "print(path + All_modelname[j] + All_mod_name[j] + '_bestwhole.h5') "
   ]
  },
  {
   "cell_type": "code",
   "execution_count": 23,
   "metadata": {},
   "outputs": [
    {
     "name": "stdout",
     "output_type": "stream",
     "text": [
      "Num GPUs Available:  0\n"
     ]
    }
   ],
   "source": [
    "import tensorflow as tf\n",
    "print(\"Num GPUs Available: \", len(tf.config.list_physical_devices('GPU')))"
   ]
  },
  {
   "cell_type": "code",
   "execution_count": 24,
   "metadata": {},
   "outputs": [
    {
     "name": "stdout",
     "output_type": "stream",
     "text": [
      "Working on: UNIT_256_LB_699_run_1 model 0 / 1\n",
      "Running self-driven gait signatures\n",
      "external and self-driven HCs parsed: 0 of 252\n"
     ]
    },
    {
     "name": "stderr",
     "output_type": "stream",
     "text": [
      "100%|██████████| 4200/4200 [01:38<00:00, 42.82it/s]\n"
     ]
    },
    {
     "name": "stdout",
     "output_type": "stream",
     "text": [
      "external and self-driven HCs parsed: 1 of 252\n"
     ]
    },
    {
     "name": "stderr",
     "output_type": "stream",
     "text": [
      "100%|██████████| 4200/4200 [01:37<00:00, 42.98it/s]\n"
     ]
    },
    {
     "name": "stdout",
     "output_type": "stream",
     "text": [
      "external and self-driven HCs parsed: 2 of 252\n"
     ]
    },
    {
     "name": "stderr",
     "output_type": "stream",
     "text": [
      "100%|██████████| 4200/4200 [01:38<00:00, 42.67it/s]\n"
     ]
    },
    {
     "name": "stdout",
     "output_type": "stream",
     "text": [
      "external and self-driven HCs parsed: 3 of 252\n"
     ]
    },
    {
     "name": "stderr",
     "output_type": "stream",
     "text": [
      "100%|██████████| 4200/4200 [01:41<00:00, 41.40it/s]\n"
     ]
    },
    {
     "name": "stdout",
     "output_type": "stream",
     "text": [
      "external and self-driven HCs parsed: 4 of 252\n"
     ]
    },
    {
     "name": "stderr",
     "output_type": "stream",
     "text": [
      "100%|██████████| 4200/4200 [01:39<00:00, 42.05it/s]\n"
     ]
    },
    {
     "name": "stdout",
     "output_type": "stream",
     "text": [
      "external and self-driven HCs parsed: 5 of 252\n"
     ]
    },
    {
     "name": "stderr",
     "output_type": "stream",
     "text": [
      "100%|██████████| 4200/4200 [01:40<00:00, 42.00it/s]\n"
     ]
    },
    {
     "name": "stdout",
     "output_type": "stream",
     "text": [
      "external and self-driven HCs parsed: 6 of 252\n"
     ]
    },
    {
     "name": "stderr",
     "output_type": "stream",
     "text": [
      "100%|██████████| 4200/4200 [01:40<00:00, 41.78it/s]\n"
     ]
    },
    {
     "name": "stdout",
     "output_type": "stream",
     "text": [
      "external and self-driven HCs parsed: 7 of 252\n"
     ]
    },
    {
     "name": "stderr",
     "output_type": "stream",
     "text": [
      "100%|██████████| 4200/4200 [01:39<00:00, 42.42it/s]\n"
     ]
    },
    {
     "name": "stdout",
     "output_type": "stream",
     "text": [
      "external and self-driven HCs parsed: 8 of 252\n"
     ]
    },
    {
     "name": "stderr",
     "output_type": "stream",
     "text": [
      "100%|██████████| 4200/4200 [01:40<00:00, 41.99it/s]\n"
     ]
    },
    {
     "name": "stdout",
     "output_type": "stream",
     "text": [
      "external and self-driven HCs parsed: 9 of 252\n"
     ]
    },
    {
     "name": "stderr",
     "output_type": "stream",
     "text": [
      "100%|██████████| 4200/4200 [01:39<00:00, 42.26it/s]\n"
     ]
    },
    {
     "name": "stdout",
     "output_type": "stream",
     "text": [
      "external and self-driven HCs parsed: 10 of 252\n"
     ]
    },
    {
     "name": "stderr",
     "output_type": "stream",
     "text": [
      "100%|██████████| 4200/4200 [01:39<00:00, 42.32it/s]\n"
     ]
    },
    {
     "name": "stdout",
     "output_type": "stream",
     "text": [
      "external and self-driven HCs parsed: 11 of 252\n"
     ]
    },
    {
     "name": "stderr",
     "output_type": "stream",
     "text": [
      "100%|██████████| 4200/4200 [01:41<00:00, 41.22it/s]\n"
     ]
    },
    {
     "name": "stdout",
     "output_type": "stream",
     "text": [
      "external and self-driven HCs parsed: 12 of 252\n"
     ]
    },
    {
     "name": "stderr",
     "output_type": "stream",
     "text": [
      "100%|██████████| 4200/4200 [01:38<00:00, 42.59it/s]\n"
     ]
    },
    {
     "name": "stdout",
     "output_type": "stream",
     "text": [
      "external and self-driven HCs parsed: 13 of 252\n"
     ]
    },
    {
     "name": "stderr",
     "output_type": "stream",
     "text": [
      "100%|██████████| 4200/4200 [01:39<00:00, 42.11it/s]\n"
     ]
    },
    {
     "name": "stdout",
     "output_type": "stream",
     "text": [
      "external and self-driven HCs parsed: 14 of 252\n"
     ]
    },
    {
     "name": "stderr",
     "output_type": "stream",
     "text": [
      "100%|██████████| 4200/4200 [01:37<00:00, 42.92it/s]\n"
     ]
    },
    {
     "name": "stdout",
     "output_type": "stream",
     "text": [
      "external and self-driven HCs parsed: 15 of 252\n"
     ]
    },
    {
     "name": "stderr",
     "output_type": "stream",
     "text": [
      "100%|██████████| 4200/4200 [01:40<00:00, 41.85it/s]\n"
     ]
    },
    {
     "name": "stdout",
     "output_type": "stream",
     "text": [
      "external and self-driven HCs parsed: 16 of 252\n"
     ]
    },
    {
     "name": "stderr",
     "output_type": "stream",
     "text": [
      "100%|██████████| 4200/4200 [01:41<00:00, 41.53it/s]\n"
     ]
    },
    {
     "name": "stdout",
     "output_type": "stream",
     "text": [
      "external and self-driven HCs parsed: 17 of 252\n"
     ]
    },
    {
     "name": "stderr",
     "output_type": "stream",
     "text": [
      "100%|██████████| 4200/4200 [01:39<00:00, 42.08it/s]\n"
     ]
    },
    {
     "name": "stdout",
     "output_type": "stream",
     "text": [
      "external and self-driven HCs parsed: 18 of 252\n"
     ]
    },
    {
     "name": "stderr",
     "output_type": "stream",
     "text": [
      "100%|██████████| 4200/4200 [01:40<00:00, 41.98it/s]\n"
     ]
    },
    {
     "name": "stdout",
     "output_type": "stream",
     "text": [
      "external and self-driven HCs parsed: 19 of 252\n"
     ]
    },
    {
     "name": "stderr",
     "output_type": "stream",
     "text": [
      "100%|██████████| 4200/4200 [01:40<00:00, 41.94it/s]\n"
     ]
    },
    {
     "name": "stdout",
     "output_type": "stream",
     "text": [
      "external and self-driven HCs parsed: 20 of 252\n"
     ]
    },
    {
     "name": "stderr",
     "output_type": "stream",
     "text": [
      "100%|██████████| 4200/4200 [01:40<00:00, 41.87it/s]\n"
     ]
    },
    {
     "name": "stdout",
     "output_type": "stream",
     "text": [
      "external and self-driven HCs parsed: 21 of 252\n"
     ]
    },
    {
     "name": "stderr",
     "output_type": "stream",
     "text": [
      "100%|██████████| 4200/4200 [01:40<00:00, 41.93it/s]\n"
     ]
    },
    {
     "name": "stdout",
     "output_type": "stream",
     "text": [
      "external and self-driven HCs parsed: 22 of 252\n"
     ]
    },
    {
     "name": "stderr",
     "output_type": "stream",
     "text": [
      "100%|██████████| 4200/4200 [01:40<00:00, 41.85it/s]\n"
     ]
    },
    {
     "name": "stdout",
     "output_type": "stream",
     "text": [
      "external and self-driven HCs parsed: 23 of 252\n"
     ]
    },
    {
     "name": "stderr",
     "output_type": "stream",
     "text": [
      "100%|██████████| 4200/4200 [01:40<00:00, 41.84it/s]\n"
     ]
    },
    {
     "name": "stdout",
     "output_type": "stream",
     "text": [
      "external and self-driven HCs parsed: 24 of 252\n"
     ]
    },
    {
     "name": "stderr",
     "output_type": "stream",
     "text": [
      "100%|██████████| 4200/4200 [01:40<00:00, 41.94it/s]\n"
     ]
    },
    {
     "name": "stdout",
     "output_type": "stream",
     "text": [
      "external and self-driven HCs parsed: 25 of 252\n"
     ]
    },
    {
     "name": "stderr",
     "output_type": "stream",
     "text": [
      "100%|██████████| 4200/4200 [01:40<00:00, 42.00it/s]\n"
     ]
    },
    {
     "name": "stdout",
     "output_type": "stream",
     "text": [
      "external and self-driven HCs parsed: 26 of 252\n"
     ]
    },
    {
     "name": "stderr",
     "output_type": "stream",
     "text": [
      "100%|██████████| 4200/4200 [01:39<00:00, 42.13it/s]\n"
     ]
    },
    {
     "name": "stdout",
     "output_type": "stream",
     "text": [
      "external and self-driven HCs parsed: 27 of 252\n"
     ]
    },
    {
     "name": "stderr",
     "output_type": "stream",
     "text": [
      "100%|██████████| 4200/4200 [01:39<00:00, 42.09it/s]\n"
     ]
    },
    {
     "name": "stdout",
     "output_type": "stream",
     "text": [
      "external and self-driven HCs parsed: 28 of 252\n"
     ]
    },
    {
     "name": "stderr",
     "output_type": "stream",
     "text": [
      "100%|██████████| 4200/4200 [01:39<00:00, 42.30it/s]\n"
     ]
    },
    {
     "name": "stdout",
     "output_type": "stream",
     "text": [
      "external and self-driven HCs parsed: 29 of 252\n"
     ]
    },
    {
     "name": "stderr",
     "output_type": "stream",
     "text": [
      "100%|██████████| 4200/4200 [01:40<00:00, 41.99it/s]\n"
     ]
    },
    {
     "name": "stdout",
     "output_type": "stream",
     "text": [
      "external and self-driven HCs parsed: 30 of 252\n"
     ]
    },
    {
     "name": "stderr",
     "output_type": "stream",
     "text": [
      "100%|██████████| 4200/4200 [01:38<00:00, 42.68it/s]\n"
     ]
    },
    {
     "name": "stdout",
     "output_type": "stream",
     "text": [
      "external and self-driven HCs parsed: 31 of 252\n"
     ]
    },
    {
     "name": "stderr",
     "output_type": "stream",
     "text": [
      "100%|██████████| 4200/4200 [01:40<00:00, 41.91it/s]\n"
     ]
    },
    {
     "name": "stdout",
     "output_type": "stream",
     "text": [
      "external and self-driven HCs parsed: 32 of 252\n"
     ]
    },
    {
     "name": "stderr",
     "output_type": "stream",
     "text": [
      "100%|██████████| 4200/4200 [01:39<00:00, 42.16it/s]\n"
     ]
    },
    {
     "name": "stdout",
     "output_type": "stream",
     "text": [
      "external and self-driven HCs parsed: 33 of 252\n"
     ]
    },
    {
     "name": "stderr",
     "output_type": "stream",
     "text": [
      "100%|██████████| 4200/4200 [01:39<00:00, 42.24it/s]\n"
     ]
    },
    {
     "name": "stdout",
     "output_type": "stream",
     "text": [
      "external and self-driven HCs parsed: 34 of 252\n"
     ]
    },
    {
     "name": "stderr",
     "output_type": "stream",
     "text": [
      "100%|██████████| 4200/4200 [01:41<00:00, 41.29it/s]\n"
     ]
    },
    {
     "name": "stdout",
     "output_type": "stream",
     "text": [
      "external and self-driven HCs parsed: 35 of 252\n"
     ]
    },
    {
     "name": "stderr",
     "output_type": "stream",
     "text": [
      "100%|██████████| 4200/4200 [01:40<00:00, 41.95it/s]\n"
     ]
    },
    {
     "name": "stdout",
     "output_type": "stream",
     "text": [
      "external and self-driven HCs parsed: 36 of 252\n"
     ]
    },
    {
     "name": "stderr",
     "output_type": "stream",
     "text": [
      "100%|██████████| 4200/4200 [01:40<00:00, 41.92it/s]\n"
     ]
    },
    {
     "name": "stdout",
     "output_type": "stream",
     "text": [
      "external and self-driven HCs parsed: 37 of 252\n"
     ]
    },
    {
     "name": "stderr",
     "output_type": "stream",
     "text": [
      "100%|██████████| 4200/4200 [01:40<00:00, 41.70it/s]\n"
     ]
    },
    {
     "name": "stdout",
     "output_type": "stream",
     "text": [
      "external and self-driven HCs parsed: 38 of 252\n"
     ]
    },
    {
     "name": "stderr",
     "output_type": "stream",
     "text": [
      "100%|██████████| 4200/4200 [01:40<00:00, 41.93it/s]\n"
     ]
    },
    {
     "name": "stdout",
     "output_type": "stream",
     "text": [
      "external and self-driven HCs parsed: 39 of 252\n"
     ]
    },
    {
     "name": "stderr",
     "output_type": "stream",
     "text": [
      "100%|██████████| 4200/4200 [01:39<00:00, 42.04it/s]\n"
     ]
    },
    {
     "name": "stdout",
     "output_type": "stream",
     "text": [
      "external and self-driven HCs parsed: 40 of 252\n"
     ]
    },
    {
     "name": "stderr",
     "output_type": "stream",
     "text": [
      "100%|██████████| 4200/4200 [01:40<00:00, 41.86it/s]\n"
     ]
    },
    {
     "name": "stdout",
     "output_type": "stream",
     "text": [
      "external and self-driven HCs parsed: 41 of 252\n"
     ]
    },
    {
     "name": "stderr",
     "output_type": "stream",
     "text": [
      "100%|██████████| 4200/4200 [01:40<00:00, 41.99it/s]\n"
     ]
    },
    {
     "name": "stdout",
     "output_type": "stream",
     "text": [
      "external and self-driven HCs parsed: 42 of 252\n"
     ]
    },
    {
     "name": "stderr",
     "output_type": "stream",
     "text": [
      "100%|██████████| 4200/4200 [01:39<00:00, 42.02it/s]\n"
     ]
    },
    {
     "name": "stdout",
     "output_type": "stream",
     "text": [
      "external and self-driven HCs parsed: 43 of 252\n"
     ]
    },
    {
     "name": "stderr",
     "output_type": "stream",
     "text": [
      "100%|██████████| 4200/4200 [01:40<00:00, 41.95it/s]\n"
     ]
    },
    {
     "name": "stdout",
     "output_type": "stream",
     "text": [
      "external and self-driven HCs parsed: 44 of 252\n"
     ]
    },
    {
     "name": "stderr",
     "output_type": "stream",
     "text": [
      "100%|██████████| 4200/4200 [01:39<00:00, 42.18it/s]\n"
     ]
    },
    {
     "name": "stdout",
     "output_type": "stream",
     "text": [
      "external and self-driven HCs parsed: 45 of 252\n"
     ]
    },
    {
     "name": "stderr",
     "output_type": "stream",
     "text": [
      "100%|██████████| 4200/4200 [01:41<00:00, 41.40it/s]\n"
     ]
    },
    {
     "name": "stdout",
     "output_type": "stream",
     "text": [
      "external and self-driven HCs parsed: 46 of 252\n"
     ]
    },
    {
     "name": "stderr",
     "output_type": "stream",
     "text": [
      "100%|██████████| 4200/4200 [01:39<00:00, 42.19it/s]\n"
     ]
    },
    {
     "name": "stdout",
     "output_type": "stream",
     "text": [
      "external and self-driven HCs parsed: 47 of 252\n"
     ]
    },
    {
     "name": "stderr",
     "output_type": "stream",
     "text": [
      "100%|██████████| 4200/4200 [01:39<00:00, 42.29it/s]\n"
     ]
    },
    {
     "name": "stdout",
     "output_type": "stream",
     "text": [
      "external and self-driven HCs parsed: 48 of 252\n"
     ]
    },
    {
     "name": "stderr",
     "output_type": "stream",
     "text": [
      "100%|██████████| 4200/4200 [01:39<00:00, 42.42it/s]\n"
     ]
    },
    {
     "name": "stdout",
     "output_type": "stream",
     "text": [
      "external and self-driven HCs parsed: 49 of 252\n"
     ]
    },
    {
     "name": "stderr",
     "output_type": "stream",
     "text": [
      "100%|██████████| 4200/4200 [01:39<00:00, 42.21it/s]\n"
     ]
    },
    {
     "name": "stdout",
     "output_type": "stream",
     "text": [
      "external and self-driven HCs parsed: 50 of 252\n"
     ]
    },
    {
     "name": "stderr",
     "output_type": "stream",
     "text": [
      "100%|██████████| 4200/4200 [01:38<00:00, 42.85it/s]\n"
     ]
    },
    {
     "name": "stdout",
     "output_type": "stream",
     "text": [
      "external and self-driven HCs parsed: 51 of 252\n"
     ]
    },
    {
     "name": "stderr",
     "output_type": "stream",
     "text": [
      "100%|██████████| 4200/4200 [01:41<00:00, 41.23it/s]\n"
     ]
    },
    {
     "name": "stdout",
     "output_type": "stream",
     "text": [
      "external and self-driven HCs parsed: 52 of 252\n"
     ]
    },
    {
     "name": "stderr",
     "output_type": "stream",
     "text": [
      "100%|██████████| 4200/4200 [01:41<00:00, 41.38it/s]\n"
     ]
    },
    {
     "name": "stdout",
     "output_type": "stream",
     "text": [
      "external and self-driven HCs parsed: 53 of 252\n"
     ]
    },
    {
     "name": "stderr",
     "output_type": "stream",
     "text": [
      "100%|██████████| 4200/4200 [01:41<00:00, 41.55it/s]\n"
     ]
    },
    {
     "name": "stdout",
     "output_type": "stream",
     "text": [
      "external and self-driven HCs parsed: 54 of 252\n"
     ]
    },
    {
     "name": "stderr",
     "output_type": "stream",
     "text": [
      "100%|██████████| 4200/4200 [01:39<00:00, 42.40it/s]\n"
     ]
    },
    {
     "name": "stdout",
     "output_type": "stream",
     "text": [
      "external and self-driven HCs parsed: 55 of 252\n"
     ]
    },
    {
     "name": "stderr",
     "output_type": "stream",
     "text": [
      "100%|██████████| 4200/4200 [01:39<00:00, 42.14it/s]\n"
     ]
    },
    {
     "name": "stdout",
     "output_type": "stream",
     "text": [
      "external and self-driven HCs parsed: 56 of 252\n"
     ]
    },
    {
     "name": "stderr",
     "output_type": "stream",
     "text": [
      "100%|██████████| 4200/4200 [01:40<00:00, 41.75it/s]\n"
     ]
    },
    {
     "name": "stdout",
     "output_type": "stream",
     "text": [
      "external and self-driven HCs parsed: 57 of 252\n"
     ]
    },
    {
     "name": "stderr",
     "output_type": "stream",
     "text": [
      "100%|██████████| 4200/4200 [01:40<00:00, 41.81it/s]\n"
     ]
    },
    {
     "name": "stdout",
     "output_type": "stream",
     "text": [
      "external and self-driven HCs parsed: 58 of 252\n"
     ]
    },
    {
     "name": "stderr",
     "output_type": "stream",
     "text": [
      "100%|██████████| 4200/4200 [01:39<00:00, 42.22it/s]\n"
     ]
    },
    {
     "name": "stdout",
     "output_type": "stream",
     "text": [
      "external and self-driven HCs parsed: 59 of 252\n"
     ]
    },
    {
     "name": "stderr",
     "output_type": "stream",
     "text": [
      "100%|██████████| 4200/4200 [01:42<00:00, 41.08it/s]\n"
     ]
    },
    {
     "name": "stdout",
     "output_type": "stream",
     "text": [
      "external and self-driven HCs parsed: 60 of 252\n"
     ]
    },
    {
     "name": "stderr",
     "output_type": "stream",
     "text": [
      "100%|██████████| 4200/4200 [01:41<00:00, 41.50it/s]\n"
     ]
    },
    {
     "name": "stdout",
     "output_type": "stream",
     "text": [
      "external and self-driven HCs parsed: 61 of 252\n"
     ]
    },
    {
     "name": "stderr",
     "output_type": "stream",
     "text": [
      "100%|██████████| 4200/4200 [01:38<00:00, 42.45it/s]\n"
     ]
    },
    {
     "name": "stdout",
     "output_type": "stream",
     "text": [
      "external and self-driven HCs parsed: 62 of 252\n"
     ]
    },
    {
     "name": "stderr",
     "output_type": "stream",
     "text": [
      "100%|██████████| 4200/4200 [01:40<00:00, 41.80it/s]\n"
     ]
    },
    {
     "name": "stdout",
     "output_type": "stream",
     "text": [
      "external and self-driven HCs parsed: 63 of 252\n"
     ]
    },
    {
     "name": "stderr",
     "output_type": "stream",
     "text": [
      "100%|██████████| 4200/4200 [01:39<00:00, 42.19it/s]\n"
     ]
    },
    {
     "name": "stdout",
     "output_type": "stream",
     "text": [
      "external and self-driven HCs parsed: 64 of 252\n"
     ]
    },
    {
     "name": "stderr",
     "output_type": "stream",
     "text": [
      "100%|██████████| 4200/4200 [01:40<00:00, 41.75it/s]\n"
     ]
    },
    {
     "name": "stdout",
     "output_type": "stream",
     "text": [
      "external and self-driven HCs parsed: 65 of 252\n"
     ]
    },
    {
     "name": "stderr",
     "output_type": "stream",
     "text": [
      "100%|██████████| 4200/4200 [01:41<00:00, 41.40it/s]\n"
     ]
    },
    {
     "name": "stdout",
     "output_type": "stream",
     "text": [
      "external and self-driven HCs parsed: 66 of 252\n"
     ]
    },
    {
     "name": "stderr",
     "output_type": "stream",
     "text": [
      "100%|██████████| 4200/4200 [01:39<00:00, 42.31it/s]\n"
     ]
    },
    {
     "name": "stdout",
     "output_type": "stream",
     "text": [
      "external and self-driven HCs parsed: 67 of 252\n"
     ]
    },
    {
     "name": "stderr",
     "output_type": "stream",
     "text": [
      "100%|██████████| 4200/4200 [01:39<00:00, 42.39it/s]\n"
     ]
    },
    {
     "name": "stdout",
     "output_type": "stream",
     "text": [
      "external and self-driven HCs parsed: 68 of 252\n"
     ]
    },
    {
     "name": "stderr",
     "output_type": "stream",
     "text": [
      "100%|██████████| 4200/4200 [01:39<00:00, 42.03it/s]\n"
     ]
    },
    {
     "name": "stdout",
     "output_type": "stream",
     "text": [
      "external and self-driven HCs parsed: 69 of 252\n"
     ]
    },
    {
     "name": "stderr",
     "output_type": "stream",
     "text": [
      "100%|██████████| 4200/4200 [01:37<00:00, 43.00it/s]\n"
     ]
    },
    {
     "name": "stdout",
     "output_type": "stream",
     "text": [
      "external and self-driven HCs parsed: 70 of 252\n"
     ]
    },
    {
     "name": "stderr",
     "output_type": "stream",
     "text": [
      "100%|██████████| 4200/4200 [01:36<00:00, 43.30it/s]\n"
     ]
    },
    {
     "name": "stdout",
     "output_type": "stream",
     "text": [
      "external and self-driven HCs parsed: 71 of 252\n"
     ]
    },
    {
     "name": "stderr",
     "output_type": "stream",
     "text": [
      "100%|██████████| 4200/4200 [01:37<00:00, 42.96it/s]\n"
     ]
    },
    {
     "name": "stdout",
     "output_type": "stream",
     "text": [
      "external and self-driven HCs parsed: 72 of 252\n"
     ]
    },
    {
     "name": "stderr",
     "output_type": "stream",
     "text": [
      "100%|██████████| 4200/4200 [01:37<00:00, 43.06it/s]\n"
     ]
    },
    {
     "name": "stdout",
     "output_type": "stream",
     "text": [
      "external and self-driven HCs parsed: 73 of 252\n"
     ]
    },
    {
     "name": "stderr",
     "output_type": "stream",
     "text": [
      "100%|██████████| 4200/4200 [01:38<00:00, 42.68it/s]\n"
     ]
    },
    {
     "name": "stdout",
     "output_type": "stream",
     "text": [
      "external and self-driven HCs parsed: 74 of 252\n"
     ]
    },
    {
     "name": "stderr",
     "output_type": "stream",
     "text": [
      "100%|██████████| 4200/4200 [01:38<00:00, 42.54it/s]\n"
     ]
    },
    {
     "name": "stdout",
     "output_type": "stream",
     "text": [
      "external and self-driven HCs parsed: 75 of 252\n"
     ]
    },
    {
     "name": "stderr",
     "output_type": "stream",
     "text": [
      "100%|██████████| 4200/4200 [01:41<00:00, 41.58it/s]\n"
     ]
    },
    {
     "name": "stdout",
     "output_type": "stream",
     "text": [
      "external and self-driven HCs parsed: 76 of 252\n"
     ]
    },
    {
     "name": "stderr",
     "output_type": "stream",
     "text": [
      "100%|██████████| 4200/4200 [01:39<00:00, 42.10it/s]\n"
     ]
    },
    {
     "name": "stdout",
     "output_type": "stream",
     "text": [
      "external and self-driven HCs parsed: 77 of 252\n"
     ]
    },
    {
     "name": "stderr",
     "output_type": "stream",
     "text": [
      "100%|██████████| 4200/4200 [01:39<00:00, 42.22it/s]\n"
     ]
    },
    {
     "name": "stdout",
     "output_type": "stream",
     "text": [
      "external and self-driven HCs parsed: 78 of 252\n"
     ]
    },
    {
     "name": "stderr",
     "output_type": "stream",
     "text": [
      "100%|██████████| 4200/4200 [01:39<00:00, 42.19it/s]\n"
     ]
    },
    {
     "name": "stdout",
     "output_type": "stream",
     "text": [
      "external and self-driven HCs parsed: 79 of 252\n"
     ]
    },
    {
     "name": "stderr",
     "output_type": "stream",
     "text": [
      "100%|██████████| 4200/4200 [01:38<00:00, 42.69it/s]\n"
     ]
    },
    {
     "name": "stdout",
     "output_type": "stream",
     "text": [
      "external and self-driven HCs parsed: 80 of 252\n"
     ]
    },
    {
     "name": "stderr",
     "output_type": "stream",
     "text": [
      "100%|██████████| 4200/4200 [01:39<00:00, 42.38it/s]\n"
     ]
    },
    {
     "name": "stdout",
     "output_type": "stream",
     "text": [
      "external and self-driven HCs parsed: 81 of 252\n"
     ]
    },
    {
     "name": "stderr",
     "output_type": "stream",
     "text": [
      "100%|██████████| 4200/4200 [01:40<00:00, 41.83it/s]\n"
     ]
    },
    {
     "name": "stdout",
     "output_type": "stream",
     "text": [
      "external and self-driven HCs parsed: 82 of 252\n"
     ]
    },
    {
     "name": "stderr",
     "output_type": "stream",
     "text": [
      "100%|██████████| 4200/4200 [01:41<00:00, 41.23it/s]\n"
     ]
    },
    {
     "name": "stdout",
     "output_type": "stream",
     "text": [
      "external and self-driven HCs parsed: 83 of 252\n"
     ]
    },
    {
     "name": "stderr",
     "output_type": "stream",
     "text": [
      "100%|██████████| 4200/4200 [01:37<00:00, 42.91it/s]\n"
     ]
    },
    {
     "name": "stdout",
     "output_type": "stream",
     "text": [
      "external and self-driven HCs parsed: 84 of 252\n"
     ]
    },
    {
     "name": "stderr",
     "output_type": "stream",
     "text": [
      "100%|██████████| 4200/4200 [01:37<00:00, 42.91it/s]\n"
     ]
    },
    {
     "name": "stdout",
     "output_type": "stream",
     "text": [
      "external and self-driven HCs parsed: 85 of 252\n"
     ]
    },
    {
     "name": "stderr",
     "output_type": "stream",
     "text": [
      "100%|██████████| 4200/4200 [01:37<00:00, 43.13it/s]\n"
     ]
    },
    {
     "name": "stdout",
     "output_type": "stream",
     "text": [
      "external and self-driven HCs parsed: 86 of 252\n"
     ]
    },
    {
     "name": "stderr",
     "output_type": "stream",
     "text": [
      "100%|██████████| 4200/4200 [01:38<00:00, 42.77it/s]\n"
     ]
    },
    {
     "name": "stdout",
     "output_type": "stream",
     "text": [
      "external and self-driven HCs parsed: 87 of 252\n"
     ]
    },
    {
     "name": "stderr",
     "output_type": "stream",
     "text": [
      "100%|██████████| 4200/4200 [01:37<00:00, 43.01it/s]\n"
     ]
    },
    {
     "name": "stdout",
     "output_type": "stream",
     "text": [
      "external and self-driven HCs parsed: 88 of 252\n"
     ]
    },
    {
     "name": "stderr",
     "output_type": "stream",
     "text": [
      "100%|██████████| 4200/4200 [01:37<00:00, 42.87it/s]\n"
     ]
    },
    {
     "name": "stdout",
     "output_type": "stream",
     "text": [
      "external and self-driven HCs parsed: 89 of 252\n"
     ]
    },
    {
     "name": "stderr",
     "output_type": "stream",
     "text": [
      "100%|██████████| 4200/4200 [01:39<00:00, 42.10it/s]\n"
     ]
    },
    {
     "name": "stdout",
     "output_type": "stream",
     "text": [
      "external and self-driven HCs parsed: 90 of 252\n"
     ]
    },
    {
     "name": "stderr",
     "output_type": "stream",
     "text": [
      "100%|██████████| 4200/4200 [01:40<00:00, 41.67it/s]\n"
     ]
    },
    {
     "name": "stdout",
     "output_type": "stream",
     "text": [
      "external and self-driven HCs parsed: 91 of 252\n"
     ]
    },
    {
     "name": "stderr",
     "output_type": "stream",
     "text": [
      "100%|██████████| 4200/4200 [01:39<00:00, 42.18it/s]\n"
     ]
    },
    {
     "name": "stdout",
     "output_type": "stream",
     "text": [
      "external and self-driven HCs parsed: 92 of 252\n"
     ]
    },
    {
     "name": "stderr",
     "output_type": "stream",
     "text": [
      "100%|██████████| 4200/4200 [01:39<00:00, 42.03it/s]\n"
     ]
    },
    {
     "name": "stdout",
     "output_type": "stream",
     "text": [
      "external and self-driven HCs parsed: 93 of 252\n"
     ]
    },
    {
     "name": "stderr",
     "output_type": "stream",
     "text": [
      "100%|██████████| 4200/4200 [01:40<00:00, 41.65it/s]\n"
     ]
    },
    {
     "name": "stdout",
     "output_type": "stream",
     "text": [
      "external and self-driven HCs parsed: 94 of 252\n"
     ]
    },
    {
     "name": "stderr",
     "output_type": "stream",
     "text": [
      "100%|██████████| 4200/4200 [01:41<00:00, 41.58it/s]\n"
     ]
    },
    {
     "name": "stdout",
     "output_type": "stream",
     "text": [
      "external and self-driven HCs parsed: 95 of 252\n"
     ]
    },
    {
     "name": "stderr",
     "output_type": "stream",
     "text": [
      "100%|██████████| 4200/4200 [01:39<00:00, 42.24it/s]\n"
     ]
    },
    {
     "name": "stdout",
     "output_type": "stream",
     "text": [
      "external and self-driven HCs parsed: 96 of 252\n"
     ]
    },
    {
     "name": "stderr",
     "output_type": "stream",
     "text": [
      "100%|██████████| 4200/4200 [01:40<00:00, 41.94it/s]\n"
     ]
    },
    {
     "name": "stdout",
     "output_type": "stream",
     "text": [
      "external and self-driven HCs parsed: 97 of 252\n"
     ]
    },
    {
     "name": "stderr",
     "output_type": "stream",
     "text": [
      "100%|██████████| 4200/4200 [01:37<00:00, 43.14it/s]\n"
     ]
    },
    {
     "name": "stdout",
     "output_type": "stream",
     "text": [
      "external and self-driven HCs parsed: 98 of 252\n"
     ]
    },
    {
     "name": "stderr",
     "output_type": "stream",
     "text": [
      "100%|██████████| 4200/4200 [01:38<00:00, 42.47it/s]\n"
     ]
    },
    {
     "name": "stdout",
     "output_type": "stream",
     "text": [
      "external and self-driven HCs parsed: 99 of 252\n"
     ]
    },
    {
     "name": "stderr",
     "output_type": "stream",
     "text": [
      "100%|██████████| 4200/4200 [01:39<00:00, 42.32it/s]\n"
     ]
    },
    {
     "name": "stdout",
     "output_type": "stream",
     "text": [
      "external and self-driven HCs parsed: 100 of 252\n"
     ]
    },
    {
     "name": "stderr",
     "output_type": "stream",
     "text": [
      "100%|██████████| 4200/4200 [01:37<00:00, 42.90it/s]\n"
     ]
    },
    {
     "name": "stdout",
     "output_type": "stream",
     "text": [
      "external and self-driven HCs parsed: 101 of 252\n"
     ]
    },
    {
     "name": "stderr",
     "output_type": "stream",
     "text": [
      "100%|██████████| 4200/4200 [01:38<00:00, 42.59it/s]\n"
     ]
    },
    {
     "name": "stdout",
     "output_type": "stream",
     "text": [
      "external and self-driven HCs parsed: 102 of 252\n"
     ]
    },
    {
     "name": "stderr",
     "output_type": "stream",
     "text": [
      "100%|██████████| 4200/4200 [01:37<00:00, 43.24it/s]\n"
     ]
    },
    {
     "name": "stdout",
     "output_type": "stream",
     "text": [
      "external and self-driven HCs parsed: 103 of 252\n"
     ]
    },
    {
     "name": "stderr",
     "output_type": "stream",
     "text": [
      "100%|██████████| 4200/4200 [01:38<00:00, 42.59it/s]\n"
     ]
    },
    {
     "name": "stdout",
     "output_type": "stream",
     "text": [
      "external and self-driven HCs parsed: 104 of 252\n"
     ]
    },
    {
     "name": "stderr",
     "output_type": "stream",
     "text": [
      "100%|██████████| 4200/4200 [01:36<00:00, 43.33it/s]\n"
     ]
    },
    {
     "name": "stdout",
     "output_type": "stream",
     "text": [
      "external and self-driven HCs parsed: 105 of 252\n"
     ]
    },
    {
     "name": "stderr",
     "output_type": "stream",
     "text": [
      "100%|██████████| 4200/4200 [01:39<00:00, 42.38it/s]\n"
     ]
    },
    {
     "name": "stdout",
     "output_type": "stream",
     "text": [
      "external and self-driven HCs parsed: 106 of 252\n"
     ]
    },
    {
     "name": "stderr",
     "output_type": "stream",
     "text": [
      "100%|██████████| 4200/4200 [01:39<00:00, 42.28it/s]\n"
     ]
    },
    {
     "name": "stdout",
     "output_type": "stream",
     "text": [
      "external and self-driven HCs parsed: 107 of 252\n"
     ]
    },
    {
     "name": "stderr",
     "output_type": "stream",
     "text": [
      "100%|██████████| 4200/4200 [01:39<00:00, 42.31it/s]\n"
     ]
    },
    {
     "name": "stdout",
     "output_type": "stream",
     "text": [
      "external and self-driven HCs parsed: 108 of 252\n"
     ]
    },
    {
     "name": "stderr",
     "output_type": "stream",
     "text": [
      "100%|██████████| 4200/4200 [01:39<00:00, 42.03it/s]\n"
     ]
    },
    {
     "name": "stdout",
     "output_type": "stream",
     "text": [
      "external and self-driven HCs parsed: 109 of 252\n"
     ]
    },
    {
     "name": "stderr",
     "output_type": "stream",
     "text": [
      "100%|██████████| 4200/4200 [01:40<00:00, 41.77it/s]\n"
     ]
    },
    {
     "name": "stdout",
     "output_type": "stream",
     "text": [
      "external and self-driven HCs parsed: 110 of 252\n"
     ]
    },
    {
     "name": "stderr",
     "output_type": "stream",
     "text": [
      "100%|██████████| 4200/4200 [01:40<00:00, 41.76it/s]\n"
     ]
    },
    {
     "name": "stdout",
     "output_type": "stream",
     "text": [
      "external and self-driven HCs parsed: 111 of 252\n"
     ]
    },
    {
     "name": "stderr",
     "output_type": "stream",
     "text": [
      "100%|██████████| 4200/4200 [01:39<00:00, 42.13it/s]\n"
     ]
    },
    {
     "name": "stdout",
     "output_type": "stream",
     "text": [
      "external and self-driven HCs parsed: 112 of 252\n"
     ]
    },
    {
     "name": "stderr",
     "output_type": "stream",
     "text": [
      "100%|██████████| 4200/4200 [01:39<00:00, 42.27it/s]\n"
     ]
    },
    {
     "name": "stdout",
     "output_type": "stream",
     "text": [
      "external and self-driven HCs parsed: 113 of 252\n"
     ]
    },
    {
     "name": "stderr",
     "output_type": "stream",
     "text": [
      "100%|██████████| 4200/4200 [01:39<00:00, 42.11it/s]\n"
     ]
    },
    {
     "name": "stdout",
     "output_type": "stream",
     "text": [
      "external and self-driven HCs parsed: 114 of 252\n"
     ]
    },
    {
     "name": "stderr",
     "output_type": "stream",
     "text": [
      "100%|██████████| 4200/4200 [01:39<00:00, 42.04it/s]\n"
     ]
    },
    {
     "name": "stdout",
     "output_type": "stream",
     "text": [
      "external and self-driven HCs parsed: 115 of 252\n"
     ]
    },
    {
     "name": "stderr",
     "output_type": "stream",
     "text": [
      "100%|██████████| 4200/4200 [01:40<00:00, 41.93it/s]\n"
     ]
    },
    {
     "name": "stdout",
     "output_type": "stream",
     "text": [
      "external and self-driven HCs parsed: 116 of 252\n"
     ]
    },
    {
     "name": "stderr",
     "output_type": "stream",
     "text": [
      "100%|██████████| 4200/4200 [01:39<00:00, 42.25it/s]\n"
     ]
    },
    {
     "name": "stdout",
     "output_type": "stream",
     "text": [
      "external and self-driven HCs parsed: 117 of 252\n"
     ]
    },
    {
     "name": "stderr",
     "output_type": "stream",
     "text": [
      "100%|██████████| 4200/4200 [01:37<00:00, 43.01it/s]\n"
     ]
    },
    {
     "name": "stdout",
     "output_type": "stream",
     "text": [
      "external and self-driven HCs parsed: 118 of 252\n"
     ]
    },
    {
     "name": "stderr",
     "output_type": "stream",
     "text": [
      "100%|██████████| 4200/4200 [01:39<00:00, 42.33it/s]\n"
     ]
    },
    {
     "name": "stdout",
     "output_type": "stream",
     "text": [
      "external and self-driven HCs parsed: 119 of 252\n"
     ]
    },
    {
     "name": "stderr",
     "output_type": "stream",
     "text": [
      "100%|██████████| 4200/4200 [01:38<00:00, 42.56it/s]\n"
     ]
    },
    {
     "name": "stdout",
     "output_type": "stream",
     "text": [
      "external and self-driven HCs parsed: 120 of 252\n"
     ]
    },
    {
     "name": "stderr",
     "output_type": "stream",
     "text": [
      "100%|██████████| 4200/4200 [01:39<00:00, 42.24it/s]\n"
     ]
    },
    {
     "name": "stdout",
     "output_type": "stream",
     "text": [
      "external and self-driven HCs parsed: 121 of 252\n"
     ]
    },
    {
     "name": "stderr",
     "output_type": "stream",
     "text": [
      "100%|██████████| 4200/4200 [01:38<00:00, 42.49it/s]\n"
     ]
    },
    {
     "name": "stdout",
     "output_type": "stream",
     "text": [
      "external and self-driven HCs parsed: 122 of 252\n"
     ]
    },
    {
     "name": "stderr",
     "output_type": "stream",
     "text": [
      "100%|██████████| 4200/4200 [01:39<00:00, 42.21it/s]\n"
     ]
    },
    {
     "name": "stdout",
     "output_type": "stream",
     "text": [
      "external and self-driven HCs parsed: 123 of 252\n"
     ]
    },
    {
     "name": "stderr",
     "output_type": "stream",
     "text": [
      "100%|██████████| 4200/4200 [01:39<00:00, 42.28it/s]\n"
     ]
    },
    {
     "name": "stdout",
     "output_type": "stream",
     "text": [
      "external and self-driven HCs parsed: 124 of 252\n"
     ]
    },
    {
     "name": "stderr",
     "output_type": "stream",
     "text": [
      "100%|██████████| 4200/4200 [01:40<00:00, 41.78it/s]\n"
     ]
    },
    {
     "name": "stdout",
     "output_type": "stream",
     "text": [
      "external and self-driven HCs parsed: 125 of 252\n"
     ]
    },
    {
     "name": "stderr",
     "output_type": "stream",
     "text": [
      "100%|██████████| 4200/4200 [01:38<00:00, 42.76it/s]\n"
     ]
    },
    {
     "name": "stdout",
     "output_type": "stream",
     "text": [
      "external and self-driven HCs parsed: 126 of 252\n"
     ]
    },
    {
     "name": "stderr",
     "output_type": "stream",
     "text": [
      "100%|██████████| 4200/4200 [01:39<00:00, 42.03it/s]\n"
     ]
    },
    {
     "name": "stdout",
     "output_type": "stream",
     "text": [
      "external and self-driven HCs parsed: 127 of 252\n"
     ]
    },
    {
     "name": "stderr",
     "output_type": "stream",
     "text": [
      "100%|██████████| 4200/4200 [01:38<00:00, 42.78it/s]\n"
     ]
    },
    {
     "name": "stdout",
     "output_type": "stream",
     "text": [
      "external and self-driven HCs parsed: 128 of 252\n"
     ]
    },
    {
     "name": "stderr",
     "output_type": "stream",
     "text": [
      "100%|██████████| 4200/4200 [01:37<00:00, 43.20it/s]\n"
     ]
    },
    {
     "name": "stdout",
     "output_type": "stream",
     "text": [
      "external and self-driven HCs parsed: 129 of 252\n"
     ]
    },
    {
     "name": "stderr",
     "output_type": "stream",
     "text": [
      "100%|██████████| 4200/4200 [01:37<00:00, 43.02it/s]\n"
     ]
    },
    {
     "name": "stdout",
     "output_type": "stream",
     "text": [
      "external and self-driven HCs parsed: 130 of 252\n"
     ]
    },
    {
     "name": "stderr",
     "output_type": "stream",
     "text": [
      "100%|██████████| 4200/4200 [01:39<00:00, 42.22it/s]\n"
     ]
    },
    {
     "name": "stdout",
     "output_type": "stream",
     "text": [
      "external and self-driven HCs parsed: 131 of 252\n"
     ]
    },
    {
     "name": "stderr",
     "output_type": "stream",
     "text": [
      "100%|██████████| 4200/4200 [01:38<00:00, 42.51it/s]\n"
     ]
    },
    {
     "name": "stdout",
     "output_type": "stream",
     "text": [
      "external and self-driven HCs parsed: 132 of 252\n"
     ]
    },
    {
     "name": "stderr",
     "output_type": "stream",
     "text": [
      "100%|██████████| 4200/4200 [01:39<00:00, 42.35it/s]\n"
     ]
    },
    {
     "name": "stdout",
     "output_type": "stream",
     "text": [
      "external and self-driven HCs parsed: 133 of 252\n"
     ]
    },
    {
     "name": "stderr",
     "output_type": "stream",
     "text": [
      "100%|██████████| 4200/4200 [01:39<00:00, 42.20it/s]\n"
     ]
    },
    {
     "name": "stdout",
     "output_type": "stream",
     "text": [
      "external and self-driven HCs parsed: 134 of 252\n"
     ]
    },
    {
     "name": "stderr",
     "output_type": "stream",
     "text": [
      "100%|██████████| 4200/4200 [01:39<00:00, 42.20it/s]\n"
     ]
    },
    {
     "name": "stdout",
     "output_type": "stream",
     "text": [
      "external and self-driven HCs parsed: 135 of 252\n"
     ]
    },
    {
     "name": "stderr",
     "output_type": "stream",
     "text": [
      "100%|██████████| 4200/4200 [01:39<00:00, 42.37it/s]\n"
     ]
    },
    {
     "name": "stdout",
     "output_type": "stream",
     "text": [
      "external and self-driven HCs parsed: 136 of 252\n"
     ]
    },
    {
     "name": "stderr",
     "output_type": "stream",
     "text": [
      "100%|██████████| 4200/4200 [01:39<00:00, 42.31it/s]\n"
     ]
    },
    {
     "name": "stdout",
     "output_type": "stream",
     "text": [
      "external and self-driven HCs parsed: 137 of 252\n"
     ]
    },
    {
     "name": "stderr",
     "output_type": "stream",
     "text": [
      "100%|██████████| 4200/4200 [01:37<00:00, 43.07it/s]\n"
     ]
    },
    {
     "name": "stdout",
     "output_type": "stream",
     "text": [
      "external and self-driven HCs parsed: 138 of 252\n"
     ]
    },
    {
     "name": "stderr",
     "output_type": "stream",
     "text": [
      "100%|██████████| 4200/4200 [01:37<00:00, 42.98it/s]\n"
     ]
    },
    {
     "name": "stdout",
     "output_type": "stream",
     "text": [
      "external and self-driven HCs parsed: 139 of 252\n"
     ]
    },
    {
     "name": "stderr",
     "output_type": "stream",
     "text": [
      "100%|██████████| 4200/4200 [01:39<00:00, 42.40it/s]\n"
     ]
    },
    {
     "name": "stdout",
     "output_type": "stream",
     "text": [
      "external and self-driven HCs parsed: 140 of 252\n"
     ]
    },
    {
     "name": "stderr",
     "output_type": "stream",
     "text": [
      "100%|██████████| 4200/4200 [01:40<00:00, 41.72it/s]\n"
     ]
    },
    {
     "name": "stdout",
     "output_type": "stream",
     "text": [
      "external and self-driven HCs parsed: 141 of 252\n"
     ]
    },
    {
     "name": "stderr",
     "output_type": "stream",
     "text": [
      "100%|██████████| 4200/4200 [01:40<00:00, 41.91it/s]\n"
     ]
    },
    {
     "name": "stdout",
     "output_type": "stream",
     "text": [
      "external and self-driven HCs parsed: 142 of 252\n"
     ]
    },
    {
     "name": "stderr",
     "output_type": "stream",
     "text": [
      "100%|██████████| 4200/4200 [01:39<00:00, 42.28it/s]\n"
     ]
    },
    {
     "name": "stdout",
     "output_type": "stream",
     "text": [
      "external and self-driven HCs parsed: 143 of 252\n"
     ]
    },
    {
     "name": "stderr",
     "output_type": "stream",
     "text": [
      "100%|██████████| 4200/4200 [01:40<00:00, 41.82it/s]\n"
     ]
    },
    {
     "name": "stdout",
     "output_type": "stream",
     "text": [
      "external and self-driven HCs parsed: 144 of 252\n"
     ]
    },
    {
     "name": "stderr",
     "output_type": "stream",
     "text": [
      "100%|██████████| 4200/4200 [01:40<00:00, 41.85it/s]\n"
     ]
    },
    {
     "name": "stdout",
     "output_type": "stream",
     "text": [
      "external and self-driven HCs parsed: 145 of 252\n"
     ]
    },
    {
     "name": "stderr",
     "output_type": "stream",
     "text": [
      "100%|██████████| 4200/4200 [01:40<00:00, 41.80it/s]\n"
     ]
    },
    {
     "name": "stdout",
     "output_type": "stream",
     "text": [
      "external and self-driven HCs parsed: 146 of 252\n"
     ]
    },
    {
     "name": "stderr",
     "output_type": "stream",
     "text": [
      "100%|██████████| 4200/4200 [01:40<00:00, 41.85it/s]\n"
     ]
    },
    {
     "name": "stdout",
     "output_type": "stream",
     "text": [
      "external and self-driven HCs parsed: 147 of 252\n"
     ]
    },
    {
     "name": "stderr",
     "output_type": "stream",
     "text": [
      "100%|██████████| 4200/4200 [01:39<00:00, 42.28it/s]\n"
     ]
    },
    {
     "name": "stdout",
     "output_type": "stream",
     "text": [
      "external and self-driven HCs parsed: 148 of 252\n"
     ]
    },
    {
     "name": "stderr",
     "output_type": "stream",
     "text": [
      "100%|██████████| 4200/4200 [01:39<00:00, 42.35it/s]\n"
     ]
    },
    {
     "name": "stdout",
     "output_type": "stream",
     "text": [
      "external and self-driven HCs parsed: 149 of 252\n"
     ]
    },
    {
     "name": "stderr",
     "output_type": "stream",
     "text": [
      "100%|██████████| 4200/4200 [01:39<00:00, 42.13it/s]\n"
     ]
    },
    {
     "name": "stdout",
     "output_type": "stream",
     "text": [
      "external and self-driven HCs parsed: 150 of 252\n"
     ]
    },
    {
     "name": "stderr",
     "output_type": "stream",
     "text": [
      "100%|██████████| 4200/4200 [01:39<00:00, 42.05it/s]\n"
     ]
    },
    {
     "name": "stdout",
     "output_type": "stream",
     "text": [
      "external and self-driven HCs parsed: 151 of 252\n"
     ]
    },
    {
     "name": "stderr",
     "output_type": "stream",
     "text": [
      "100%|██████████| 4200/4200 [01:37<00:00, 42.92it/s]\n"
     ]
    },
    {
     "name": "stdout",
     "output_type": "stream",
     "text": [
      "external and self-driven HCs parsed: 152 of 252\n"
     ]
    },
    {
     "name": "stderr",
     "output_type": "stream",
     "text": [
      "100%|██████████| 4200/4200 [01:38<00:00, 42.74it/s]\n"
     ]
    },
    {
     "name": "stdout",
     "output_type": "stream",
     "text": [
      "external and self-driven HCs parsed: 153 of 252\n"
     ]
    },
    {
     "name": "stderr",
     "output_type": "stream",
     "text": [
      "100%|██████████| 4200/4200 [01:37<00:00, 42.93it/s]\n"
     ]
    },
    {
     "name": "stdout",
     "output_type": "stream",
     "text": [
      "external and self-driven HCs parsed: 154 of 252\n"
     ]
    },
    {
     "name": "stderr",
     "output_type": "stream",
     "text": [
      "100%|██████████| 4200/4200 [01:38<00:00, 42.84it/s]\n"
     ]
    },
    {
     "name": "stdout",
     "output_type": "stream",
     "text": [
      "external and self-driven HCs parsed: 155 of 252\n"
     ]
    },
    {
     "name": "stderr",
     "output_type": "stream",
     "text": [
      "100%|██████████| 4200/4200 [01:39<00:00, 42.28it/s]\n"
     ]
    },
    {
     "name": "stdout",
     "output_type": "stream",
     "text": [
      "external and self-driven HCs parsed: 156 of 252\n"
     ]
    },
    {
     "name": "stderr",
     "output_type": "stream",
     "text": [
      "100%|██████████| 4200/4200 [01:39<00:00, 42.15it/s]\n"
     ]
    },
    {
     "name": "stdout",
     "output_type": "stream",
     "text": [
      "external and self-driven HCs parsed: 157 of 252\n"
     ]
    },
    {
     "name": "stderr",
     "output_type": "stream",
     "text": [
      "100%|██████████| 4200/4200 [01:38<00:00, 42.45it/s]\n"
     ]
    },
    {
     "name": "stdout",
     "output_type": "stream",
     "text": [
      "external and self-driven HCs parsed: 158 of 252\n"
     ]
    },
    {
     "name": "stderr",
     "output_type": "stream",
     "text": [
      "100%|██████████| 4200/4200 [01:39<00:00, 42.06it/s]\n"
     ]
    },
    {
     "name": "stdout",
     "output_type": "stream",
     "text": [
      "external and self-driven HCs parsed: 159 of 252\n"
     ]
    },
    {
     "name": "stderr",
     "output_type": "stream",
     "text": [
      "100%|██████████| 4200/4200 [01:39<00:00, 42.16it/s]\n"
     ]
    },
    {
     "name": "stdout",
     "output_type": "stream",
     "text": [
      "external and self-driven HCs parsed: 160 of 252\n"
     ]
    },
    {
     "name": "stderr",
     "output_type": "stream",
     "text": [
      "100%|██████████| 4200/4200 [01:38<00:00, 42.51it/s]\n"
     ]
    },
    {
     "name": "stdout",
     "output_type": "stream",
     "text": [
      "external and self-driven HCs parsed: 161 of 252\n"
     ]
    },
    {
     "name": "stderr",
     "output_type": "stream",
     "text": [
      "100%|██████████| 4200/4200 [01:41<00:00, 41.40it/s]\n"
     ]
    },
    {
     "name": "stdout",
     "output_type": "stream",
     "text": [
      "external and self-driven HCs parsed: 162 of 252\n"
     ]
    },
    {
     "name": "stderr",
     "output_type": "stream",
     "text": [
      "100%|██████████| 4200/4200 [01:39<00:00, 42.24it/s]\n"
     ]
    },
    {
     "name": "stdout",
     "output_type": "stream",
     "text": [
      "external and self-driven HCs parsed: 163 of 252\n"
     ]
    },
    {
     "name": "stderr",
     "output_type": "stream",
     "text": [
      "100%|██████████| 4200/4200 [01:38<00:00, 42.43it/s]\n"
     ]
    },
    {
     "name": "stdout",
     "output_type": "stream",
     "text": [
      "external and self-driven HCs parsed: 164 of 252\n"
     ]
    },
    {
     "name": "stderr",
     "output_type": "stream",
     "text": [
      "100%|██████████| 4200/4200 [01:39<00:00, 42.40it/s]\n"
     ]
    },
    {
     "name": "stdout",
     "output_type": "stream",
     "text": [
      "external and self-driven HCs parsed: 165 of 252\n"
     ]
    },
    {
     "name": "stderr",
     "output_type": "stream",
     "text": [
      "100%|██████████| 4200/4200 [01:40<00:00, 41.77it/s]\n"
     ]
    },
    {
     "name": "stdout",
     "output_type": "stream",
     "text": [
      "external and self-driven HCs parsed: 166 of 252\n"
     ]
    },
    {
     "name": "stderr",
     "output_type": "stream",
     "text": [
      "100%|██████████| 4200/4200 [01:38<00:00, 42.73it/s]\n"
     ]
    },
    {
     "name": "stdout",
     "output_type": "stream",
     "text": [
      "external and self-driven HCs parsed: 167 of 252\n"
     ]
    },
    {
     "name": "stderr",
     "output_type": "stream",
     "text": [
      "100%|██████████| 4200/4200 [01:39<00:00, 42.30it/s]\n"
     ]
    },
    {
     "name": "stdout",
     "output_type": "stream",
     "text": [
      "external and self-driven HCs parsed: 168 of 252\n"
     ]
    },
    {
     "name": "stderr",
     "output_type": "stream",
     "text": [
      "100%|██████████| 4200/4200 [01:38<00:00, 42.46it/s]\n"
     ]
    },
    {
     "name": "stdout",
     "output_type": "stream",
     "text": [
      "external and self-driven HCs parsed: 169 of 252\n"
     ]
    },
    {
     "name": "stderr",
     "output_type": "stream",
     "text": [
      "100%|██████████| 4200/4200 [01:39<00:00, 42.19it/s]\n"
     ]
    },
    {
     "name": "stdout",
     "output_type": "stream",
     "text": [
      "external and self-driven HCs parsed: 170 of 252\n"
     ]
    },
    {
     "name": "stderr",
     "output_type": "stream",
     "text": [
      "100%|██████████| 4200/4200 [01:40<00:00, 41.96it/s]\n"
     ]
    },
    {
     "name": "stdout",
     "output_type": "stream",
     "text": [
      "external and self-driven HCs parsed: 171 of 252\n"
     ]
    },
    {
     "name": "stderr",
     "output_type": "stream",
     "text": [
      "100%|██████████| 4200/4200 [01:41<00:00, 41.39it/s]\n"
     ]
    },
    {
     "name": "stdout",
     "output_type": "stream",
     "text": [
      "external and self-driven HCs parsed: 172 of 252\n"
     ]
    },
    {
     "name": "stderr",
     "output_type": "stream",
     "text": [
      "100%|██████████| 4200/4200 [01:38<00:00, 42.47it/s]\n"
     ]
    },
    {
     "name": "stdout",
     "output_type": "stream",
     "text": [
      "external and self-driven HCs parsed: 173 of 252\n"
     ]
    },
    {
     "name": "stderr",
     "output_type": "stream",
     "text": [
      "100%|██████████| 4200/4200 [01:39<00:00, 42.39it/s]\n"
     ]
    },
    {
     "name": "stdout",
     "output_type": "stream",
     "text": [
      "external and self-driven HCs parsed: 174 of 252\n"
     ]
    },
    {
     "name": "stderr",
     "output_type": "stream",
     "text": [
      "100%|██████████| 4200/4200 [01:41<00:00, 41.32it/s]\n"
     ]
    },
    {
     "name": "stdout",
     "output_type": "stream",
     "text": [
      "external and self-driven HCs parsed: 175 of 252\n"
     ]
    },
    {
     "name": "stderr",
     "output_type": "stream",
     "text": [
      "100%|██████████| 4200/4200 [01:40<00:00, 41.59it/s]\n"
     ]
    },
    {
     "name": "stdout",
     "output_type": "stream",
     "text": [
      "external and self-driven HCs parsed: 176 of 252\n"
     ]
    },
    {
     "name": "stderr",
     "output_type": "stream",
     "text": [
      "100%|██████████| 4200/4200 [01:39<00:00, 42.03it/s]\n"
     ]
    },
    {
     "name": "stdout",
     "output_type": "stream",
     "text": [
      "external and self-driven HCs parsed: 177 of 252\n"
     ]
    },
    {
     "name": "stderr",
     "output_type": "stream",
     "text": [
      "100%|██████████| 4200/4200 [01:37<00:00, 43.19it/s]\n"
     ]
    },
    {
     "name": "stdout",
     "output_type": "stream",
     "text": [
      "external and self-driven HCs parsed: 178 of 252\n"
     ]
    },
    {
     "name": "stderr",
     "output_type": "stream",
     "text": [
      "100%|██████████| 4200/4200 [01:39<00:00, 42.39it/s]\n"
     ]
    },
    {
     "name": "stdout",
     "output_type": "stream",
     "text": [
      "external and self-driven HCs parsed: 179 of 252\n"
     ]
    },
    {
     "name": "stderr",
     "output_type": "stream",
     "text": [
      "100%|██████████| 4200/4200 [01:40<00:00, 41.65it/s]\n"
     ]
    },
    {
     "name": "stdout",
     "output_type": "stream",
     "text": [
      "external and self-driven HCs parsed: 180 of 252\n"
     ]
    },
    {
     "name": "stderr",
     "output_type": "stream",
     "text": [
      "100%|██████████| 4200/4200 [01:40<00:00, 41.88it/s]\n"
     ]
    },
    {
     "name": "stdout",
     "output_type": "stream",
     "text": [
      "external and self-driven HCs parsed: 181 of 252\n"
     ]
    },
    {
     "name": "stderr",
     "output_type": "stream",
     "text": [
      "100%|██████████| 4200/4200 [01:39<00:00, 42.33it/s]\n"
     ]
    },
    {
     "name": "stdout",
     "output_type": "stream",
     "text": [
      "external and self-driven HCs parsed: 182 of 252\n"
     ]
    },
    {
     "name": "stderr",
     "output_type": "stream",
     "text": [
      "100%|██████████| 4200/4200 [01:39<00:00, 42.13it/s]\n"
     ]
    },
    {
     "name": "stdout",
     "output_type": "stream",
     "text": [
      "external and self-driven HCs parsed: 183 of 252\n"
     ]
    },
    {
     "name": "stderr",
     "output_type": "stream",
     "text": [
      "100%|██████████| 4200/4200 [01:39<00:00, 42.05it/s]\n"
     ]
    },
    {
     "name": "stdout",
     "output_type": "stream",
     "text": [
      "external and self-driven HCs parsed: 184 of 252\n"
     ]
    },
    {
     "name": "stderr",
     "output_type": "stream",
     "text": [
      "100%|██████████| 4200/4200 [01:41<00:00, 41.48it/s]\n"
     ]
    },
    {
     "name": "stdout",
     "output_type": "stream",
     "text": [
      "external and self-driven HCs parsed: 185 of 252\n"
     ]
    },
    {
     "name": "stderr",
     "output_type": "stream",
     "text": [
      "100%|██████████| 4200/4200 [01:37<00:00, 43.10it/s]\n"
     ]
    },
    {
     "name": "stdout",
     "output_type": "stream",
     "text": [
      "external and self-driven HCs parsed: 186 of 252\n"
     ]
    },
    {
     "name": "stderr",
     "output_type": "stream",
     "text": [
      "100%|██████████| 4200/4200 [01:39<00:00, 42.09it/s]\n"
     ]
    },
    {
     "name": "stdout",
     "output_type": "stream",
     "text": [
      "external and self-driven HCs parsed: 187 of 252\n"
     ]
    },
    {
     "name": "stderr",
     "output_type": "stream",
     "text": [
      "100%|██████████| 4200/4200 [01:39<00:00, 42.14it/s]\n"
     ]
    },
    {
     "name": "stdout",
     "output_type": "stream",
     "text": [
      "external and self-driven HCs parsed: 188 of 252\n"
     ]
    },
    {
     "name": "stderr",
     "output_type": "stream",
     "text": [
      "100%|██████████| 4200/4200 [01:39<00:00, 42.12it/s]\n"
     ]
    },
    {
     "name": "stdout",
     "output_type": "stream",
     "text": [
      "external and self-driven HCs parsed: 189 of 252\n"
     ]
    },
    {
     "name": "stderr",
     "output_type": "stream",
     "text": [
      "100%|██████████| 4200/4200 [01:38<00:00, 42.56it/s]\n"
     ]
    },
    {
     "name": "stdout",
     "output_type": "stream",
     "text": [
      "external and self-driven HCs parsed: 190 of 252\n"
     ]
    },
    {
     "name": "stderr",
     "output_type": "stream",
     "text": [
      "100%|██████████| 4200/4200 [01:40<00:00, 41.87it/s]\n"
     ]
    },
    {
     "name": "stdout",
     "output_type": "stream",
     "text": [
      "external and self-driven HCs parsed: 191 of 252\n"
     ]
    },
    {
     "name": "stderr",
     "output_type": "stream",
     "text": [
      "100%|██████████| 4200/4200 [01:38<00:00, 42.63it/s]\n"
     ]
    },
    {
     "name": "stdout",
     "output_type": "stream",
     "text": [
      "external and self-driven HCs parsed: 192 of 252\n"
     ]
    },
    {
     "name": "stderr",
     "output_type": "stream",
     "text": [
      "100%|██████████| 4200/4200 [01:39<00:00, 42.07it/s]\n"
     ]
    },
    {
     "name": "stdout",
     "output_type": "stream",
     "text": [
      "external and self-driven HCs parsed: 193 of 252\n"
     ]
    },
    {
     "name": "stderr",
     "output_type": "stream",
     "text": [
      "100%|██████████| 4200/4200 [01:38<00:00, 42.66it/s]\n"
     ]
    },
    {
     "name": "stdout",
     "output_type": "stream",
     "text": [
      "external and self-driven HCs parsed: 194 of 252\n"
     ]
    },
    {
     "name": "stderr",
     "output_type": "stream",
     "text": [
      "100%|██████████| 4200/4200 [01:38<00:00, 42.83it/s]\n"
     ]
    },
    {
     "name": "stdout",
     "output_type": "stream",
     "text": [
      "external and self-driven HCs parsed: 195 of 252\n"
     ]
    },
    {
     "name": "stderr",
     "output_type": "stream",
     "text": [
      "100%|██████████| 4200/4200 [01:38<00:00, 42.84it/s]\n"
     ]
    },
    {
     "name": "stdout",
     "output_type": "stream",
     "text": [
      "external and self-driven HCs parsed: 196 of 252\n"
     ]
    },
    {
     "name": "stderr",
     "output_type": "stream",
     "text": [
      "100%|██████████| 4200/4200 [01:38<00:00, 42.54it/s]\n"
     ]
    },
    {
     "name": "stdout",
     "output_type": "stream",
     "text": [
      "external and self-driven HCs parsed: 197 of 252\n"
     ]
    },
    {
     "name": "stderr",
     "output_type": "stream",
     "text": [
      "100%|██████████| 4200/4200 [01:39<00:00, 42.40it/s]\n"
     ]
    },
    {
     "name": "stdout",
     "output_type": "stream",
     "text": [
      "external and self-driven HCs parsed: 198 of 252\n"
     ]
    },
    {
     "name": "stderr",
     "output_type": "stream",
     "text": [
      "100%|██████████| 4200/4200 [01:38<00:00, 42.83it/s]\n"
     ]
    },
    {
     "name": "stdout",
     "output_type": "stream",
     "text": [
      "external and self-driven HCs parsed: 199 of 252\n"
     ]
    },
    {
     "name": "stderr",
     "output_type": "stream",
     "text": [
      "100%|██████████| 4200/4200 [01:38<00:00, 42.53it/s]\n"
     ]
    },
    {
     "name": "stdout",
     "output_type": "stream",
     "text": [
      "external and self-driven HCs parsed: 200 of 252\n"
     ]
    },
    {
     "name": "stderr",
     "output_type": "stream",
     "text": [
      "100%|██████████| 4200/4200 [01:39<00:00, 42.23it/s]\n"
     ]
    },
    {
     "name": "stdout",
     "output_type": "stream",
     "text": [
      "external and self-driven HCs parsed: 201 of 252\n"
     ]
    },
    {
     "name": "stderr",
     "output_type": "stream",
     "text": [
      "100%|██████████| 4200/4200 [01:38<00:00, 42.55it/s]\n"
     ]
    },
    {
     "name": "stdout",
     "output_type": "stream",
     "text": [
      "external and self-driven HCs parsed: 202 of 252\n"
     ]
    },
    {
     "name": "stderr",
     "output_type": "stream",
     "text": [
      "100%|██████████| 4200/4200 [01:38<00:00, 42.75it/s]\n"
     ]
    },
    {
     "name": "stdout",
     "output_type": "stream",
     "text": [
      "external and self-driven HCs parsed: 203 of 252\n"
     ]
    },
    {
     "name": "stderr",
     "output_type": "stream",
     "text": [
      "100%|██████████| 4200/4200 [01:41<00:00, 41.42it/s]\n"
     ]
    },
    {
     "name": "stdout",
     "output_type": "stream",
     "text": [
      "external and self-driven HCs parsed: 204 of 252\n"
     ]
    },
    {
     "name": "stderr",
     "output_type": "stream",
     "text": [
      "100%|██████████| 4200/4200 [01:41<00:00, 41.50it/s]\n"
     ]
    },
    {
     "name": "stdout",
     "output_type": "stream",
     "text": [
      "external and self-driven HCs parsed: 205 of 252\n"
     ]
    },
    {
     "name": "stderr",
     "output_type": "stream",
     "text": [
      "100%|██████████| 4200/4200 [01:40<00:00, 41.92it/s]\n"
     ]
    },
    {
     "name": "stdout",
     "output_type": "stream",
     "text": [
      "external and self-driven HCs parsed: 206 of 252\n"
     ]
    },
    {
     "name": "stderr",
     "output_type": "stream",
     "text": [
      "100%|██████████| 4200/4200 [01:40<00:00, 41.70it/s]\n"
     ]
    },
    {
     "name": "stdout",
     "output_type": "stream",
     "text": [
      "external and self-driven HCs parsed: 207 of 252\n"
     ]
    },
    {
     "name": "stderr",
     "output_type": "stream",
     "text": [
      "100%|██████████| 4200/4200 [01:40<00:00, 41.83it/s]\n"
     ]
    },
    {
     "name": "stdout",
     "output_type": "stream",
     "text": [
      "external and self-driven HCs parsed: 208 of 252\n"
     ]
    },
    {
     "name": "stderr",
     "output_type": "stream",
     "text": [
      "100%|██████████| 4200/4200 [01:41<00:00, 41.37it/s]\n"
     ]
    },
    {
     "name": "stdout",
     "output_type": "stream",
     "text": [
      "external and self-driven HCs parsed: 209 of 252\n"
     ]
    },
    {
     "name": "stderr",
     "output_type": "stream",
     "text": [
      "100%|██████████| 4200/4200 [01:40<00:00, 41.88it/s]\n"
     ]
    },
    {
     "name": "stdout",
     "output_type": "stream",
     "text": [
      "external and self-driven HCs parsed: 210 of 252\n"
     ]
    },
    {
     "name": "stderr",
     "output_type": "stream",
     "text": [
      "100%|██████████| 4200/4200 [01:39<00:00, 42.00it/s]\n"
     ]
    },
    {
     "name": "stdout",
     "output_type": "stream",
     "text": [
      "external and self-driven HCs parsed: 211 of 252\n"
     ]
    },
    {
     "name": "stderr",
     "output_type": "stream",
     "text": [
      "100%|██████████| 4200/4200 [01:40<00:00, 41.69it/s]\n"
     ]
    },
    {
     "name": "stdout",
     "output_type": "stream",
     "text": [
      "external and self-driven HCs parsed: 212 of 252\n"
     ]
    },
    {
     "name": "stderr",
     "output_type": "stream",
     "text": [
      "100%|██████████| 4200/4200 [01:41<00:00, 41.48it/s]\n"
     ]
    },
    {
     "name": "stdout",
     "output_type": "stream",
     "text": [
      "external and self-driven HCs parsed: 213 of 252\n"
     ]
    },
    {
     "name": "stderr",
     "output_type": "stream",
     "text": [
      "100%|██████████| 4200/4200 [01:42<00:00, 41.09it/s]\n"
     ]
    },
    {
     "name": "stdout",
     "output_type": "stream",
     "text": [
      "external and self-driven HCs parsed: 214 of 252\n"
     ]
    },
    {
     "name": "stderr",
     "output_type": "stream",
     "text": [
      "100%|██████████| 4200/4200 [01:41<00:00, 41.49it/s]\n"
     ]
    },
    {
     "name": "stdout",
     "output_type": "stream",
     "text": [
      "external and self-driven HCs parsed: 215 of 252\n"
     ]
    },
    {
     "name": "stderr",
     "output_type": "stream",
     "text": [
      "100%|██████████| 4200/4200 [01:40<00:00, 41.93it/s]\n"
     ]
    },
    {
     "name": "stdout",
     "output_type": "stream",
     "text": [
      "external and self-driven HCs parsed: 216 of 252\n"
     ]
    },
    {
     "name": "stderr",
     "output_type": "stream",
     "text": [
      "100%|██████████| 4200/4200 [01:39<00:00, 42.08it/s]\n"
     ]
    },
    {
     "name": "stdout",
     "output_type": "stream",
     "text": [
      "external and self-driven HCs parsed: 217 of 252\n"
     ]
    },
    {
     "name": "stderr",
     "output_type": "stream",
     "text": [
      "100%|██████████| 4200/4200 [01:38<00:00, 42.43it/s]\n"
     ]
    },
    {
     "name": "stdout",
     "output_type": "stream",
     "text": [
      "external and self-driven HCs parsed: 218 of 252\n"
     ]
    },
    {
     "name": "stderr",
     "output_type": "stream",
     "text": [
      "100%|██████████| 4200/4200 [01:39<00:00, 42.08it/s]\n"
     ]
    },
    {
     "name": "stdout",
     "output_type": "stream",
     "text": [
      "external and self-driven HCs parsed: 219 of 252\n"
     ]
    },
    {
     "name": "stderr",
     "output_type": "stream",
     "text": [
      "100%|██████████| 4200/4200 [01:41<00:00, 41.45it/s]\n"
     ]
    },
    {
     "name": "stdout",
     "output_type": "stream",
     "text": [
      "external and self-driven HCs parsed: 220 of 252\n"
     ]
    },
    {
     "name": "stderr",
     "output_type": "stream",
     "text": [
      "100%|██████████| 4200/4200 [01:39<00:00, 42.04it/s]\n"
     ]
    },
    {
     "name": "stdout",
     "output_type": "stream",
     "text": [
      "external and self-driven HCs parsed: 221 of 252\n"
     ]
    },
    {
     "name": "stderr",
     "output_type": "stream",
     "text": [
      "100%|██████████| 4200/4200 [01:39<00:00, 42.05it/s]\n"
     ]
    },
    {
     "name": "stdout",
     "output_type": "stream",
     "text": [
      "external and self-driven HCs parsed: 222 of 252\n"
     ]
    },
    {
     "name": "stderr",
     "output_type": "stream",
     "text": [
      "100%|██████████| 4200/4200 [01:40<00:00, 41.59it/s]\n"
     ]
    },
    {
     "name": "stdout",
     "output_type": "stream",
     "text": [
      "external and self-driven HCs parsed: 223 of 252\n"
     ]
    },
    {
     "name": "stderr",
     "output_type": "stream",
     "text": [
      "100%|██████████| 4200/4200 [01:40<00:00, 41.78it/s]\n"
     ]
    },
    {
     "name": "stdout",
     "output_type": "stream",
     "text": [
      "external and self-driven HCs parsed: 224 of 252\n"
     ]
    },
    {
     "name": "stderr",
     "output_type": "stream",
     "text": [
      "100%|██████████| 4200/4200 [01:40<00:00, 41.83it/s]\n"
     ]
    },
    {
     "name": "stdout",
     "output_type": "stream",
     "text": [
      "external and self-driven HCs parsed: 225 of 252\n"
     ]
    },
    {
     "name": "stderr",
     "output_type": "stream",
     "text": [
      "100%|██████████| 4200/4200 [01:39<00:00, 42.32it/s]\n"
     ]
    },
    {
     "name": "stdout",
     "output_type": "stream",
     "text": [
      "external and self-driven HCs parsed: 226 of 252\n"
     ]
    },
    {
     "name": "stderr",
     "output_type": "stream",
     "text": [
      "100%|██████████| 4200/4200 [01:40<00:00, 41.93it/s]\n"
     ]
    },
    {
     "name": "stdout",
     "output_type": "stream",
     "text": [
      "external and self-driven HCs parsed: 227 of 252\n"
     ]
    },
    {
     "name": "stderr",
     "output_type": "stream",
     "text": [
      "100%|██████████| 4200/4200 [01:40<00:00, 41.80it/s]\n"
     ]
    },
    {
     "name": "stdout",
     "output_type": "stream",
     "text": [
      "external and self-driven HCs parsed: 228 of 252\n"
     ]
    },
    {
     "name": "stderr",
     "output_type": "stream",
     "text": [
      "100%|██████████| 4200/4200 [01:37<00:00, 42.98it/s]\n"
     ]
    },
    {
     "name": "stdout",
     "output_type": "stream",
     "text": [
      "external and self-driven HCs parsed: 229 of 252\n"
     ]
    },
    {
     "name": "stderr",
     "output_type": "stream",
     "text": [
      "100%|██████████| 4200/4200 [01:38<00:00, 42.50it/s]\n"
     ]
    },
    {
     "name": "stdout",
     "output_type": "stream",
     "text": [
      "external and self-driven HCs parsed: 230 of 252\n"
     ]
    },
    {
     "name": "stderr",
     "output_type": "stream",
     "text": [
      "100%|██████████| 4200/4200 [01:38<00:00, 42.58it/s]\n"
     ]
    },
    {
     "name": "stdout",
     "output_type": "stream",
     "text": [
      "external and self-driven HCs parsed: 231 of 252\n"
     ]
    },
    {
     "name": "stderr",
     "output_type": "stream",
     "text": [
      "100%|██████████| 4200/4200 [01:38<00:00, 42.80it/s]\n"
     ]
    },
    {
     "name": "stdout",
     "output_type": "stream",
     "text": [
      "external and self-driven HCs parsed: 232 of 252\n"
     ]
    },
    {
     "name": "stderr",
     "output_type": "stream",
     "text": [
      "100%|██████████| 4200/4200 [01:38<00:00, 42.86it/s]\n"
     ]
    },
    {
     "name": "stdout",
     "output_type": "stream",
     "text": [
      "external and self-driven HCs parsed: 233 of 252\n"
     ]
    },
    {
     "name": "stderr",
     "output_type": "stream",
     "text": [
      "100%|██████████| 4200/4200 [01:38<00:00, 42.79it/s]\n"
     ]
    },
    {
     "name": "stdout",
     "output_type": "stream",
     "text": [
      "external and self-driven HCs parsed: 234 of 252\n"
     ]
    },
    {
     "name": "stderr",
     "output_type": "stream",
     "text": [
      "100%|██████████| 4200/4200 [01:38<00:00, 42.81it/s]\n"
     ]
    },
    {
     "name": "stdout",
     "output_type": "stream",
     "text": [
      "external and self-driven HCs parsed: 235 of 252\n"
     ]
    },
    {
     "name": "stderr",
     "output_type": "stream",
     "text": [
      "100%|██████████| 4200/4200 [01:40<00:00, 41.79it/s]\n"
     ]
    },
    {
     "name": "stdout",
     "output_type": "stream",
     "text": [
      "external and self-driven HCs parsed: 236 of 252\n"
     ]
    },
    {
     "name": "stderr",
     "output_type": "stream",
     "text": [
      "100%|██████████| 4200/4200 [01:40<00:00, 41.80it/s]\n"
     ]
    },
    {
     "name": "stdout",
     "output_type": "stream",
     "text": [
      "external and self-driven HCs parsed: 237 of 252\n"
     ]
    },
    {
     "name": "stderr",
     "output_type": "stream",
     "text": [
      "100%|██████████| 4200/4200 [01:42<00:00, 40.89it/s]\n"
     ]
    },
    {
     "name": "stdout",
     "output_type": "stream",
     "text": [
      "external and self-driven HCs parsed: 238 of 252\n"
     ]
    },
    {
     "name": "stderr",
     "output_type": "stream",
     "text": [
      "100%|██████████| 4200/4200 [01:40<00:00, 41.65it/s]\n"
     ]
    },
    {
     "name": "stdout",
     "output_type": "stream",
     "text": [
      "external and self-driven HCs parsed: 239 of 252\n"
     ]
    },
    {
     "name": "stderr",
     "output_type": "stream",
     "text": [
      "100%|██████████| 4200/4200 [01:40<00:00, 41.63it/s]\n"
     ]
    },
    {
     "name": "stdout",
     "output_type": "stream",
     "text": [
      "external and self-driven HCs parsed: 240 of 252\n"
     ]
    },
    {
     "name": "stderr",
     "output_type": "stream",
     "text": [
      "100%|██████████| 4200/4200 [01:40<00:00, 41.94it/s]\n"
     ]
    },
    {
     "name": "stdout",
     "output_type": "stream",
     "text": [
      "external and self-driven HCs parsed: 241 of 252\n"
     ]
    },
    {
     "name": "stderr",
     "output_type": "stream",
     "text": [
      "100%|██████████| 4200/4200 [01:40<00:00, 41.97it/s]\n"
     ]
    },
    {
     "name": "stdout",
     "output_type": "stream",
     "text": [
      "external and self-driven HCs parsed: 242 of 252\n"
     ]
    },
    {
     "name": "stderr",
     "output_type": "stream",
     "text": [
      "100%|██████████| 4200/4200 [01:40<00:00, 41.87it/s]\n"
     ]
    },
    {
     "name": "stdout",
     "output_type": "stream",
     "text": [
      "external and self-driven HCs parsed: 243 of 252\n"
     ]
    },
    {
     "name": "stderr",
     "output_type": "stream",
     "text": [
      "100%|██████████| 4200/4200 [01:38<00:00, 42.81it/s]\n"
     ]
    },
    {
     "name": "stdout",
     "output_type": "stream",
     "text": [
      "external and self-driven HCs parsed: 244 of 252\n"
     ]
    },
    {
     "name": "stderr",
     "output_type": "stream",
     "text": [
      "100%|██████████| 4200/4200 [01:39<00:00, 42.20it/s]\n"
     ]
    },
    {
     "name": "stdout",
     "output_type": "stream",
     "text": [
      "external and self-driven HCs parsed: 245 of 252\n"
     ]
    },
    {
     "name": "stderr",
     "output_type": "stream",
     "text": [
      "100%|██████████| 4200/4200 [01:37<00:00, 43.08it/s]\n"
     ]
    },
    {
     "name": "stdout",
     "output_type": "stream",
     "text": [
      "external and self-driven HCs parsed: 246 of 252\n"
     ]
    },
    {
     "name": "stderr",
     "output_type": "stream",
     "text": [
      "100%|██████████| 4200/4200 [01:37<00:00, 43.15it/s]\n"
     ]
    },
    {
     "name": "stdout",
     "output_type": "stream",
     "text": [
      "external and self-driven HCs parsed: 247 of 252\n"
     ]
    },
    {
     "name": "stderr",
     "output_type": "stream",
     "text": [
      "100%|██████████| 4200/4200 [01:38<00:00, 42.55it/s]\n"
     ]
    },
    {
     "name": "stdout",
     "output_type": "stream",
     "text": [
      "external and self-driven HCs parsed: 248 of 252\n"
     ]
    },
    {
     "name": "stderr",
     "output_type": "stream",
     "text": [
      "100%|██████████| 4200/4200 [01:37<00:00, 42.97it/s]\n"
     ]
    },
    {
     "name": "stdout",
     "output_type": "stream",
     "text": [
      "external and self-driven HCs parsed: 249 of 252\n"
     ]
    },
    {
     "name": "stderr",
     "output_type": "stream",
     "text": [
      "100%|██████████| 4200/4200 [01:39<00:00, 42.04it/s]\n"
     ]
    },
    {
     "name": "stdout",
     "output_type": "stream",
     "text": [
      "external and self-driven HCs parsed: 250 of 252\n"
     ]
    },
    {
     "name": "stderr",
     "output_type": "stream",
     "text": [
      "100%|██████████| 4200/4200 [01:40<00:00, 41.98it/s]\n"
     ]
    },
    {
     "name": "stdout",
     "output_type": "stream",
     "text": [
      "external and self-driven HCs parsed: 251 of 252\n"
     ]
    },
    {
     "name": "stderr",
     "output_type": "stream",
     "text": [
      "100%|██████████| 4200/4200 [01:40<00:00, 41.62it/s]\n"
     ]
    }
   ],
   "source": [
    "for j in range(len(All_mod_name)):\n",
    "    # make folder to store model\n",
    "    newfoldpath = path + All_mod_name[j]\n",
    "\n",
    "\n",
    "    # extract path to store each model and generated data\n",
    "    savepath = path + All_modelname[j]\n",
    "    mod_name = All_mod_name[j]\n",
    "\n",
    "    print('Working on: ' + mod_name + ' model ' + str(j) + ' / ' + str(len(All_mod_name)))\n",
    "    \n",
    "    # Specify variables for model run instance\n",
    "\n",
    "    # Number of Units\n",
    "    numunits = All_nodes[j]\n",
    "\n",
    "    # Lookback parameter\n",
    "    # A number is chosen called the look back parameter where training occurs for this many timesteps and then the units' weights are \n",
    "    #reset to zero. Within the look back parameter # of time steps the outputs are predicted, errors calculated, gradient attained which is multiplied by \n",
    "    #back propagation to update the weights.  If you add 1 to the lookback parameter- this number should be divisible by the trialsamp- this allows for\n",
    "    # generating the input and the output data within each dataset- example if triallength is 30, the lookback parameter could be 9\n",
    "    # so input1 = 1:9, output1 = 2:10.....input3= 21:29, output3= 22:30.Thus there are 3 times we can evaluate error within the trial (resetting paramters each time) \n",
    "    lookback = All_seq[j]\n",
    "\n",
    "    # Training and Validation Set-up\n",
    "    # Based on the length of the trials and the lookback parameter you can set how much data would be for training vs testing. \n",
    "    # For example, if the num = lookback+1 can be divided into the trial length 6 times,  \n",
    "    # trainseg can be 4 corresponding to the 1st 4 segments and valseg can be 2 corresponding to last 2 segments of trial for validation\n",
    "    # Select the 1st X segments to be training\n",
    "    trainseg = All_trainseg[j]\n",
    "    # Select the last Y segments to be validation\n",
    "    valseg = All_valseg[j]\n",
    "\n",
    "    with tf.device('/device:GPU:1'):\n",
    "      # load modelfrom previous run to save time re-training model\n",
    "      model = tf.keras.models.load_model(savepath + mod_name + '_bestwhole.h5') \n",
    "\n",
    "      # Need to be on GPU to run the following as well:\n",
    "\n",
    "      # Set the trained model weights to new model to evaluate external predictions and self-driving \n",
    "      model2=tf.keras.models.Sequential()\n",
    "      model2.add(tf.compat.v1.keras.layers.LSTM(units = numunits, stateful=True, return_sequences=True, batch_input_shape =(1,None,feats)))\n",
    "      model2.add(tf.compat.v1.keras.layers.Dense(units=feats))\n",
    "      model2.compile(loss='mse', optimizer='adam',metrics=['accuracy'])\n",
    "\n",
    "\n",
    "      # Set model 2 weights from model 1\n",
    "      for l1, l2 in zip(model.layers, model2.layers):\n",
    "        assert l1.get_config().keys()==l2.get_config().keys()\n",
    "      for key, v in l1.get_config().items():\n",
    "          if key=='name':\n",
    "              continue\n",
    "          if not v==l2.get_config()[key]:\n",
    "              print(l1.name, key, 'not matching.', 'Old,new : ', v, l2.get_config()[key], '\\n')\n",
    "\n",
    "      model2.set_weights(model.get_weights())\n",
    "      assert np.all([np.array_equal(w1, w2) for (w1,w2) in zip(model.get_weights(), model2.get_weights())]) \n",
    "\n",
    "      ####  Generate external and self driving signatures for all data\n",
    "      print('Running self-driven gait signatures')\n",
    "\n",
    "      in_data = all_inputdata_s\n",
    "      ext_drive= trialsamp # externally drive for twice the lookback\n",
    "      total_drive = ext_drive*2  # in self-driving mode the lower node models won't self-drive more than the look-back- they zero out pretty quickly \n",
    "\n",
    "      HC_self_concat = np.empty(shape=[0, numunits*2]) # initialize HC storage for self-driving\n",
    "      HC_ext_concat = np.empty(shape=[0, numunits*2])  # initialize HC storage for external-driving\n",
    "\n",
    "      Predicted_KIN = np.empty(shape = [trialnum,total_drive, feats])\n",
    "      \n",
    "      test_ind = np.arange(0, len(all_inputdata_s), 1)  # run all input data through\n",
    "\n",
    "      for g in test_ind:\n",
    "          print('external and self-driven HCs parsed: ' + str(g) + ' of ' + str(len(test_ind)))\n",
    "          model2.layers[0].reset_states([np.zeros((1,numunits)), np.zeros((1,numunits))])\n",
    "          preds = np.zeros((1, total_drive, feats))\n",
    "          hcs = np.zeros((2, total_drive, numunits))\n",
    "          for i in tqdm(range(total_drive)):\n",
    "              if i<ext_drive:\n",
    "                  #preds[:,i,:] = model2.predict(in_data[g,i,:][None,None,:], use_multiprocessing = True)# index the test trial\n",
    "                  preds[:,i,:] = model2.predict_step(in_data[g,i,:][None,None,:])# index the test trial\n",
    "              else:\n",
    "                  #preds[:,i,:] = model2.predict(preds[0,i-1,:][None,None,:])\n",
    "                  preds[:,i,:] = model2.predict_step(preds[0,i-1,:][None,None,:])\n",
    "\n",
    "              hcs[:,i,:] = np.array(model2.layers[0].states)[:,0]\n",
    "\n",
    "              Hvalues = hcs[0]\n",
    "              Cvalues = np.tanh(hcs[1])\n",
    "\n",
    "              Hvalues_self = Hvalues[ext_drive:total_drive]# only extract the selfdriving Hs\n",
    "              Hvalues_ext = Hvalues[0:ext_drive] # extract external Hs\n",
    "\n",
    "              Cvalues_self = Cvalues[ext_drive:total_drive]\n",
    "              Cvalues_ext = Cvalues[0:ext_drive]\n",
    "\n",
    "              HC_self = np.concatenate((Hvalues_self, Cvalues_self), axis=1) # concatenate Hs and Cs of single trial\n",
    "              HC_ext =  np.concatenate((Hvalues_ext, Cvalues_ext), axis=1)\n",
    "\n",
    "          HC_self_concat = np.append(HC_self_concat, HC_self, axis = 0) # concatenate all trials to eachother\n",
    "          HC_ext_concat = np.append(HC_ext_concat, HC_ext, axis = 0)\n",
    "          \n",
    "          preds_rescale = preds[0,:,:] # no rescaling in this script - unscaled model (if scaled it would be rescaled here)\n",
    "          in_data_rescale = in_data[g] # no rescaling - unscaled model (if scaled it would be rescaled here)\n",
    "\n",
    "          Predicted_KIN[g] = preds_rescale\n",
    "          #np.save(savepath + mod_name + 'trial_' + str(g) + '_rescaledpredictedkinematics.npy', preds_rescale) # save the predicted kinematics\n",
    "          #np.save(savepath + mod_name + 'trial_' + str(g) + '_rescaledkinematics.npy', in_data_rescale) #save the rescaled original kinematics for testin\n",
    "\n",
    "          # Generate figure with predictive kinematics\n",
    "          fig = plt.figure(figsize=(20,15))\n",
    "          plt.subplot(15,1,1)\n",
    "          plt.title(\"Trial: \" + str(g), fontsize=14)\n",
    "          plt.plot(in_data_rescale[:ext_drive+(trialsamp-ext_drive),0], \"b-\", markersize=21, label=\"Ind 17 Right Thumb X\") #original data\n",
    "          plt.plot(preds_rescale[:,0], \"g-\", markersize=20, label=\"Ind 17 Right Thumb X_predict\") #predicted\n",
    "          plt.axvline(x=ext_drive, color='r', alpha=0.4)\n",
    "          plt.legend(loc=\"upper right\")\n",
    "          plt.xlabel(\"Sample Number\")\n",
    "          plt.ylabel(\"Position\")\n",
    "\n",
    "          plt.subplot(15,1,2)\n",
    "          #plt.title(\"Evaluating Predictions\", fontsize=14)\n",
    "          plt.plot(in_data_rescale[:ext_drive+(trialsamp-ext_drive),1], \"b-\", markersize=21, label=\"Ind 17 Right Thumb Y\") #original data\n",
    "          plt.plot(preds_rescale[:,1], \"g-\", markersize=20, label=\"Ind 17 Right Thumb Y_predict\") #predicted\n",
    "          plt.legend(loc=\"upper right\")\n",
    "          plt.xlabel(\"Sample Number\")\n",
    "          plt.ylabel(\"Position\")\n",
    "          plt.axvline(x=ext_drive, color='r', alpha=0.4)\n",
    "\n",
    "          plt.subplot(15,1,3)\n",
    "          #plt.title(\"Evaluating Predictions\", fontsize=14)\n",
    "          plt.plot(in_data_rescale[:ext_drive+(trialsamp-ext_drive),2], \"b-\", markersize=21, label=\"Ind 17 Right Thumb Z\") #original data\n",
    "          plt.plot(preds_rescale[:,2], \"g-\", markersize=20, label=\"Ind 17 Right Thumb Z_predict\") #predicted\n",
    "          plt.legend(loc=\"upper right\")\n",
    "          plt.xlabel(\"Sample Number\")\n",
    "          plt.ylabel(\"Position\")\n",
    "          plt.axvline(x=ext_drive, color='r', alpha=0.4)\n",
    "\n",
    "          plt.subplot(15,1,4)\n",
    "          #plt.title(\"Evaluating Predictions\", fontsize=14)\n",
    "          plt.plot(in_data_rescale[:ext_drive+(trialsamp-ext_drive),3], \"b-\", markersize=21, label=\"Ind 17 Right Index X\") #original data\n",
    "          plt.plot(preds_rescale[:,3], \"g-\", markersize=20, label=\"Ind 17 Right Index X_predict\") #predicted\n",
    "          plt.legend(loc=\"upper right\")\n",
    "          plt.xlabel(\"Sample Number\")\n",
    "          plt.ylabel(\"Position\")\n",
    "          plt.axvline(x=ext_drive, color='r', alpha=0.4)\n",
    "\n",
    "          plt.subplot(15,1,5)\n",
    "          #plt.title(\"Evaluating Predictions\", fontsize=14)\n",
    "          plt.plot(in_data_rescale[:ext_drive+(trialsamp-ext_drive),4], \"b-\", markersize=21, label=\"Ind 17 Right Index Y\") #original data\n",
    "          plt.plot(preds_rescale[:,4], \"g-\", markersize=20, label=\"Ind 17 Right Index Y_predict\") #predicted\n",
    "          plt.legend(loc=\"upper right\")\n",
    "          plt.xlabel(\"Sample Number\")\n",
    "          plt.ylabel(\"Position\")\n",
    "          plt.axvline(x=ext_drive, color='r', alpha=0.4)\n",
    "\n",
    "          plt.subplot(15,1,6)\n",
    "          #plt.title(\"Evaluating Predictions\", fontsize=14)\n",
    "          plt.plot(in_data_rescale[:ext_drive+(trialsamp-ext_drive),5], \"b-\", markersize=21, label=\"Ind 17 Right Index Z\") #original data\n",
    "          plt.plot(preds_rescale[:,5], \"g-\", markersize=20, label=\"Ind 17 Right Index Z_predict\") #predicted\n",
    "          plt.legend(loc=\"upper right\")\n",
    "          plt.xlabel(\"Sample Number\")\n",
    "          plt.ylabel(\"Position\")\n",
    "          plt.axvline(x=ext_drive, color='r', alpha=0.4)\n",
    "\n",
    "          plt.subplot(15,1,7)\n",
    "          #plt.title(\"Evaluating Predictions\", fontsize=14)\n",
    "          plt.plot(in_data_rescale[:ext_drive+(trialsamp-ext_drive),6], \"b-\", markersize=21, label=\"Ind 17 Right Middle X\") #original data\n",
    "          plt.plot(preds_rescale[:,6], \"g-\", markersize=20, label=\"Ind 17 Right Middle X_predict\") #predicted\n",
    "          plt.legend(loc=\"upper right\")\n",
    "          plt.xlabel(\"Sample Number\")\n",
    "          plt.ylabel(\"Position\")\n",
    "          plt.axvline(x=ext_drive, color='r', alpha=0.4)\n",
    "\n",
    "          plt.subplot(15,1,8)\n",
    "          #plt.title(\"Evaluating Predictions\", fontsize=14)\n",
    "          plt.plot(in_data_rescale[:ext_drive+(trialsamp-ext_drive),7], \"b-\", markersize=21, label=\"Ind 17 Right Middle Y\") #original data\n",
    "          plt.plot(preds_rescale[:,7], \"g-\", markersize=20, label=\"Ind 17 Right Middle Y_predict\") #predicted\n",
    "          plt.legend(loc=\"upper right\")\n",
    "          plt.xlabel(\"Sample Number\")\n",
    "          plt.ylabel(\"Position\")\n",
    "          plt.axvline(x=ext_drive, color='r', alpha=0.4)\n",
    "\n",
    "          plt.subplot(15,1,9)\n",
    "          #plt.title(\"Evaluating Predictions\", fontsize=14)\n",
    "          plt.plot(in_data_rescale[:ext_drive+(trialsamp-ext_drive),8], \"b-\", markersize=21, label=\"Ind 17 Right Middle Z\") #original data\n",
    "          plt.plot(preds_rescale[:,8], \"g-\", markersize=20, label=\"Ind 17 Right Middle Z\") #predicted\n",
    "          plt.legend(loc=\"upper right\")\n",
    "          plt.xlabel(\"Sample Number\")\n",
    "          plt.ylabel(\"Position\")\n",
    "          plt.axvline(x=ext_drive, color='r', alpha=0.4)\n",
    "\n",
    "          plt.subplot(15,1,10)\n",
    "          #plt.title(\"Evaluating Predictions\", fontsize=14)\n",
    "          plt.plot(in_data_rescale[:ext_drive+(trialsamp-ext_drive),9], \"b-\", markersize=21, label=\"Ind 17 Right Ring X\") #original data\n",
    "          plt.plot(preds_rescale[:,9], \"g-\", markersize=20, label=\"Ind 17 Right Ring X_predict\") #predicted\n",
    "          plt.legend(loc=\"upper right\")\n",
    "          plt.xlabel(\"Sample Number\")\n",
    "          plt.ylabel(\"Position\")\n",
    "          plt.axvline(x=ext_drive, color='r', alpha=0.4)\n",
    "\n",
    "          plt.subplot(15,1,11)\n",
    "          #plt.title(\"Evaluating Predictions\", fontsize=14)\n",
    "          plt.plot(in_data_rescale[:ext_drive+(trialsamp-ext_drive),10], \"b-\", markersize=21, label=\"Ind 17 Right Ring Y\") #original data\n",
    "          plt.plot(preds_rescale[:,10], \"g-\", markersize=20, label=\"Ind 17 Right Ring Y_predict\") #predicted\n",
    "          plt.legend(loc=\"upper right\")\n",
    "          plt.xlabel(\"Sample Number\")\n",
    "          plt.ylabel(\"Position\")\n",
    "          plt.axvline(x=ext_drive, color='r', alpha=0.4)\n",
    "\n",
    "          plt.subplot(15,1,12)\n",
    "          #plt.title(\"Evaluating Predictions\", fontsize=14)\n",
    "          plt.plot(in_data_rescale[:ext_drive+(trialsamp-ext_drive),11], \"b-\", markersize=21, label=\"Ind 17 Right Ring Z\") #original data\n",
    "          plt.plot(preds_rescale[:,11], \"g-\", markersize=20, label=\"Ind 17 Right Ring Z_predict\") #predicted\n",
    "          plt.legend(loc=\"upper right\")\n",
    "          plt.xlabel(\"Sample Number\")\n",
    "          plt.ylabel(\"Position\")\n",
    "          plt.axvline(x=ext_drive, color='r', alpha=0.4)\n",
    "\n",
    "          plt.subplot(15,1,13)\n",
    "          #plt.title(\"Evaluating Predictions\", fontsize=14)\n",
    "          plt.plot(in_data_rescale[:ext_drive+(trialsamp-ext_drive),12], \"b-\", markersize=21, label=\"Ind 17 Right Ring X\") #original data\n",
    "          plt.plot(preds_rescale[:,12], \"g-\", markersize=20, label=\"Ind 17 Right Ring X_predict\") #predicted\n",
    "          plt.legend(loc=\"upper right\")\n",
    "          plt.xlabel(\"Sample Number\")\n",
    "          plt.ylabel(\"Position\")\n",
    "          plt.axvline(x=ext_drive, color='r', alpha=0.4)\n",
    "\n",
    "          plt.subplot(15,1,14)\n",
    "          #plt.title(\"Evaluating Predictions\", fontsize=14)\n",
    "          plt.plot(in_data_rescale[:ext_drive+(trialsamp-ext_drive),13], \"b-\", markersize=21, label=\"Ind 17 Right Pinky Y\") #original data\n",
    "          plt.plot(preds_rescale[:,13], \"g-\", markersize=20, label=\"Ind 17 Right Pinky Y_predict\") #predicted\n",
    "          plt.legend(loc=\"upper right\")\n",
    "          plt.xlabel(\"Sample Number\")\n",
    "          plt.ylabel(\"Position\")\n",
    "          plt.axvline(x=ext_drive, color='r', alpha=0.4)\n",
    "\n",
    "          plt.subplot(15,1,15)\n",
    "          #plt.title(\"Evaluating Predictions\", fontsize=14)\n",
    "          plt.plot(in_data_rescale[:ext_drive+(trialsamp-ext_drive),14], \"b-\", markersize=21, label=\"Ind 17 Right Pinky Z\") #original data\n",
    "          plt.plot(preds_rescale[:,14], \"g-\", markersize=20, label=\"Ind 17 Right Pinky Z_predict\") #predicted\n",
    "          plt.legend(loc=\"upper right\")\n",
    "          plt.xlabel(\"Sample Number\")\n",
    "          plt.ylabel(\"Position\")\n",
    "          plt.axvline(x=ext_drive, color='r', alpha=0.4)\n",
    "\n",
    "          plt.savefig(savepath + mod_name + 'trial_' + str(g) +  '_PredictiveKinematics.png', dpi = 300)\n",
    "          plt.close(fig)# close figure in loop\n",
    "\n",
    "      np.save(savepath + mod_name + '_PredictedKinematics_ext_self.npy', Predicted_KIN)\n",
    "\n",
    "      SelfDriveHCs_testset = HC_self_concat # rename for further processing already coded before\n",
    "      ExternalDriveHCs_testset = HC_ext_concat\n",
    "\n",
    "      CombinedExternal_Self_HCs = np.concatenate((ExternalDriveHCs_testset,SelfDriveHCs_testset), axis = 0) # all Hs and Cs\n",
    "\n",
    "        # save these held out HCs \n",
    "      np.save(savepath + mod_name + '_selfdriveHCs.npy', SelfDriveHCs_testset)\n",
    "      scipy.io.savemat(savepath + mod_name + '_selfdriveHCs.mat', {'self_drive_sigs': SelfDriveHCs_testset})\n",
    "\n",
    "      np.save(savepath + mod_name + '_extdriveHCs_testset.npy', ExternalDriveHCs_testset)\n",
    "      scipy.io.savemat(savepath + mod_name + '_extdriveHCs_testset.mat', {'ext_drive_sigs': ExternalDriveHCs_testset})\n"
   ]
  }
 ],
 "metadata": {
  "kernelspec": {
   "display_name": "Python 3.9.12",
   "language": "python",
   "name": "python3"
  },
  "language_info": {
   "codemirror_mode": {
    "name": "ipython",
    "version": 3
   },
   "file_extension": ".py",
   "mimetype": "text/x-python",
   "name": "python",
   "nbconvert_exporter": "python",
   "pygments_lexer": "ipython3",
   "version": "3.9.12"
  },
  "orig_nbformat": 4,
  "vscode": {
   "interpreter": {
    "hash": "7e5ecc7f1ed5ad2012e040649f3b38678c25a0603972bc6e06040cc507d21099"
   }
  }
 },
 "nbformat": 4,
 "nbformat_minor": 2
}
